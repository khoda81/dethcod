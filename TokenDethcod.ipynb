{
 "cells": [
  {
   "cell_type": "code",
   "execution_count": 1,
   "metadata": {},
   "outputs": [],
   "source": [
    "import torch\n",
    "from dethcod.token import compression, decompression\n",
    "from transformers import AutoTokenizer\n",
    "\n",
    "MODEL_ID = \"google-t5/t5-small\"\n",
    "device = torch.device(\"cuda\" if torch.cuda.is_available() else \"cpu\")\n",
    "\n",
    "compressor = compression.CompressionModel.from_pretrained(MODEL_ID).to(device)\n",
    "decompressor = decompression.DecompressionModel.from_pretrained(MODEL_ID).to(device)\n",
    "tokenizer = AutoTokenizer.from_pretrained(MODEL_ID)"
   ]
  },
  {
   "cell_type": "code",
   "execution_count": 2,
   "metadata": {},
   "outputs": [
    {
     "name": "stdout",
     "output_type": "stream",
     "text": [
      "'<pad> Ein Tasse Wasser braucht die zentralen Anlage.</s>'\n"
     ]
    }
   ],
   "source": [
    "from transformers import GenerationConfig\n",
    "\n",
    "generation_config = GenerationConfig(\n",
    "    do_sample=True,\n",
    "    num_beams=1,\n",
    "    max_new_tokens=20,\n",
    ")\n",
    "\n",
    "input_seq = \"\"\"\n",
    "translate English to German: I need a cup of water.\n",
    "\"\"\"\n",
    "input_ids = tokenizer.encode(input_seq, return_tensors=\"pt\").to(device)\n",
    "\n",
    "generated_output = compressor.generate(\n",
    "    input_ids=input_ids,\n",
    "    generation_config=generation_config,\n",
    ")\n",
    "\n",
    "for seq in tokenizer.batch_decode(generated_output):\n",
    "    print(repr(seq))"
   ]
  },
  {
   "cell_type": "code",
   "execution_count": 3,
   "metadata": {},
   "outputs": [],
   "source": [
    "decompression_output = decompressor.forward(\n",
    "    input_ids=generated_output,\n",
    "    labels=input_ids,\n",
    ")"
   ]
  },
  {
   "cell_type": "code",
   "execution_count": 5,
   "metadata": {},
   "outputs": [
    {
     "data": {
      "text/plain": [
       "tensor(4.7319, device='cuda:0', grad_fn=<NllLossBackward0>)"
      ]
     },
     "execution_count": 5,
     "metadata": {},
     "output_type": "execute_result"
    }
   ],
   "source": [
    "decompression_output.loss"
   ]
  }
 ],
 "metadata": {
  "kernelspec": {
   "display_name": "data-science",
   "language": "python",
   "name": "python3"
  },
  "language_info": {
   "codemirror_mode": {
    "name": "ipython",
    "version": 3
   },
   "file_extension": ".py",
   "mimetype": "text/x-python",
   "name": "python",
   "nbconvert_exporter": "python",
   "pygments_lexer": "ipython3",
   "version": "3.9.18"
  }
 },
 "nbformat": 4,
 "nbformat_minor": 2
}
