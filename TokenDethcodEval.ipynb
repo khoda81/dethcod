{
 "cells": [
  {
   "cell_type": "markdown",
   "metadata": {
    "id": "unSiMpj_w4a7"
   },
   "source": [
    "# Token based DETHCOD"
   ]
  },
  {
   "cell_type": "code",
   "execution_count": null,
   "metadata": {
    "id": "eSX4vKTl97pS",
    "scrolled": true
   },
   "outputs": [],
   "source": [
    "!pip install transformers wandb requests_cache datasets tqdm python-dotenv peft accelerate bitsandbytes>0.37.0"
   ]
  },
  {
   "cell_type": "code",
   "execution_count": 1,
   "metadata": {
    "id": "e-neGcFgTHdu",
    "outputId": "8ea87abe-c1a8-4a3c-82e5-6486b75e4e2a"
   },
   "outputs": [
    {
     "name": "stderr",
     "output_type": "stream",
     "text": [
      "\u001b[34m\u001b[1mwandb\u001b[0m: \u001b[33mWARNING\u001b[0m If you're specifying your api key in code, ensure this code is not shared publicly.\n",
      "\u001b[34m\u001b[1mwandb\u001b[0m: \u001b[33mWARNING\u001b[0m Consider setting the WANDB_API_KEY environment variable, or running `wandb login` from the command line.\n",
      "\u001b[34m\u001b[1mwandb\u001b[0m: Appending key for api.wandb.ai to your netrc file: /home/khodabandeh/.netrc\n"
     ]
    }
   ],
   "source": [
    "import os\n",
    "import wandb\n",
    "\n",
    "try:\n",
    "    from dotenv import load_dotenv\n",
    "    # Load environment variables from .env file\n",
    "    load_dotenv()\n",
    "\n",
    "except ImportError as e:\n",
    "    print(f\"Error importing dotenv: {e}\")\n",
    "\n",
    "\n",
    "# Check if running in Colab\n",
    "try:\n",
    "    from google.colab import userdata\n",
    "    # If running in Colab, use userdata.get to retrieve the token\n",
    "    wandb.login(key=userdata.get('wandb_token'))\n",
    "\n",
    "except ImportError:\n",
    "    # If not in Colab, load the token from the environment variable\n",
    "    wandb_token = os.getenv('WANDB_TOKEN')\n",
    "    if wandb_token:\n",
    "        wandb.login(key=wandb_token, relogin=True)\n",
    "    else:\n",
    "        print(\"W&B token not found in environment variable. Please set WANDB_TOKEN in your environment.\")\n"
   ]
  },
  {
   "cell_type": "markdown",
   "metadata": {
    "id": "3yDIICSsnFOb"
   },
   "source": [
    "## Download Data"
   ]
  },
  {
   "cell_type": "code",
   "execution_count": 2,
   "metadata": {
    "colab": {
     "base_uri": "https://localhost:8080/"
    },
    "id": "JQb9wuBJnFOc",
    "outputId": "14f92a7c-92b6-4c54-cb96-7aedd2d11747"
   },
   "outputs": [
    {
     "data": {
      "application/vnd.jupyter.widget-view+json": {
       "model_id": "0281b1df4a3d4337acea1a6ed75c1dac",
       "version_major": 2,
       "version_minor": 0
      },
      "text/plain": [
       "Downloading:   0%|          | 0.00/36.4M [00:00<?, ?B/s]"
      ]
     },
     "metadata": {},
     "output_type": "display_data"
    },
    {
     "name": "stderr",
     "output_type": "stream",
     "text": [
      "File downloaded and decompressed successfully.\n"
     ]
    }
   ],
   "source": [
    "import io\n",
    "import os\n",
    "import sys\n",
    "import zipfile\n",
    "\n",
    "import requests\n",
    "import requests_cache\n",
    "from tqdm.auto import tqdm\n",
    "\n",
    "\n",
    "zip_link = \"http://www.mattmahoney.net/dc/enwik8.zip\"\n",
    "data_folder = \"dataset\"\n",
    "cache_file = \"download_cache\"\n",
    "\n",
    "# Ensure the data folder exists\n",
    "if not os.path.exists(data_folder):\n",
    "    os.makedirs(data_folder)\n",
    "\n",
    "# Initialize requests_cache\n",
    "requests_cache.install_cache(os.path.join(data_folder, cache_file))\n",
    "\n",
    "# Download the ZIP file with progress bar\n",
    "response = requests.get(zip_link, stream=True)\n",
    "response.raise_for_status()\n",
    "\n",
    "# Get the total file size for the progress bar\n",
    "total_size = int(response.headers.get(\"content-length\", 0))\n",
    "\n",
    "# Open the ZIP file from the content\n",
    "with open(os.path.join(data_folder, \"enwik8.zip\"), \"wb\") as file:\n",
    "    with tqdm(\n",
    "        total=total_size, unit=\"B\", unit_scale=True, desc=\"Downloading\"\n",
    "    ) as pbar:\n",
    "        for data in response.iter_content(chunk_size=1024):\n",
    "            file.write(data)\n",
    "            pbar.update(len(data))\n",
    "\n",
    "# Open the cached file\n",
    "with open(os.path.join(data_folder, \"enwik8.zip\"), \"rb\") as file:\n",
    "    # Open the ZIP file from the content\n",
    "    with zipfile.ZipFile(io.BytesIO(file.read())) as zip_file:\n",
    "        # Extract all contents to the data folder\n",
    "        zip_file.extractall(data_folder)\n",
    "\n",
    "print(\"File downloaded and decompressed successfully.\", file=sys.stderr)\n"
   ]
  },
  {
   "cell_type": "markdown",
   "metadata": {
    "id": "NMCRynUDpAz6"
   },
   "source": [
    "## Data"
   ]
  },
  {
   "cell_type": "code",
   "execution_count": 1,
   "metadata": {
    "colab": {
     "base_uri": "https://localhost:8080/",
     "height": 49,
     "referenced_widgets": [
      "2011e26c9fde4ada959624a30d935c6b",
      "55a34be2f9d14d00926062efafa2d7b0",
      "1925655871374689a1057b008f889052",
      "576e75f0473145168b5d166acb903643",
      "532d04fe48164a00a8db36177c9ea152",
      "ffbc13e493114403b6f88a67db932b15",
      "a5c93a83de084232a6964a113aecb930",
      "232f001ecfd4414aba63125571389434",
      "06df0c8f7b974e189272f1a91a5e28c5",
      "4b524028a9564a61a935d10083922c4c",
      "1dc435da8c744a6282e8f7cfce8b4f2f"
     ]
    },
    "id": "BF26H2PapAjj",
    "outputId": "f39ab00e-b77e-4ab5-9075-21f2501f44ca"
   },
   "outputs": [],
   "source": [
    "from datasets import load_dataset\n",
    "\n",
    "dataset = load_dataset(\"text\", data_files=[\"dataset/enwik8\"])\n",
    "dataset = dataset[\"train\"]"
   ]
  },
  {
   "cell_type": "code",
   "execution_count": 2,
   "metadata": {
    "colab": {
     "base_uri": "https://localhost:8080/"
    },
    "id": "pY1_Ux8uprdh",
    "outputId": "a0f15afa-0f49-4aea-d8ac-1f875aa8369e"
   },
   "outputs": [],
   "source": [
    "from transformers import AutoTokenizer\n",
    "\n",
    "MODEL_ID = \"google-t5/t5-small\"\n",
    "tokenizer = AutoTokenizer.from_pretrained(MODEL_ID)"
   ]
  },
  {
   "cell_type": "code",
   "execution_count": 3,
   "metadata": {
    "colab": {
     "base_uri": "https://localhost:8080/",
     "height": 49,
     "referenced_widgets": [
      "3bf1e9a699f14d709b1f81ae98bf1215",
      "0124c91212644264aaf84fe52e26e1dd",
      "61bc579763f6454cb6a36dc80b9068a0",
      "f056e5f5aec54fe8b3cfc121e1c24430",
      "e6563f7242f3412a940b8761621eeac7",
      "71f62c2eb9ad40e289c5bbcc0c95490d",
      "bc1b308fdc1b4e80a6d04a70e75de34e",
      "b0349099323b4b6280e3f253ab2aa033",
      "e486dae88741401a82d16c7aa84b57cf",
      "654f5bb5e6e44858af000d593b701980",
      "22d010b51fd34ddf82627507aed81676"
     ]
    },
    "id": "dZXhU0AfhrTJ",
    "outputId": "87a6d03b-25cf-4dd0-d61c-b340a250e1df"
   },
   "outputs": [],
   "source": [
    "# Removing large and empty samples\n",
    "MAX_LENGTH = 128\n",
    "\n",
    "def filter_samples(example):\n",
    "    tokenized = tokenizer(\n",
    "        example[\"text\"],\n",
    "        truncation=True,\n",
    "        max_length=MAX_LENGTH + 1,\n",
    "        return_attention_mask=False,\n",
    "        return_length=True,\n",
    "    )\n",
    "\n",
    "    return [\n",
    "        1 < sample_length <= MAX_LENGTH\n",
    "        for sample_length in tokenized.length\n",
    "    ]\n",
    "\n",
    "dataset = dataset.filter(filter_samples, batched=True)"
   ]
  },
  {
   "cell_type": "code",
   "execution_count": 4,
   "metadata": {
    "colab": {
     "base_uri": "https://localhost:8080/"
    },
    "id": "WPWUhHX8A43h",
    "outputId": "82f3afe8-154a-40d7-c6a1-f0346072dc5b"
   },
   "outputs": [
    {
     "name": "stdout",
     "output_type": "stream",
     "text": [
      "'area_note =|'\n"
     ]
    }
   ],
   "source": [
    "import random\n",
    "sample = random.choice(dataset)\n",
    "print(repr(sample[\"text\"]))"
   ]
  },
  {
   "cell_type": "markdown",
   "metadata": {
    "id": "wrDpshHUnFOd"
   },
   "source": [
    "## Model"
   ]
  },
  {
   "cell_type": "code",
   "execution_count": 6,
   "metadata": {
    "id": "fGqAZ6NY-FrU"
   },
   "outputs": [],
   "source": [
    "from dataclasses import dataclass\n",
    "from typing import Optional, Tuple, Union\n",
    "\n",
    "import torch\n",
    "import torch.nn as nn\n",
    "import transformers\n",
    "import transformers.modeling_outputs\n",
    "\n",
    "\n",
    "class CompressionConfig(transformers.T5Config): ...\n",
    "\n",
    "\n",
    "@dataclass\n",
    "class CompressionOutput(transformers.modeling_outputs.Seq2SeqLMOutput):\n",
    "    value_predictions: Optional[Tuple[torch.FloatTensor, ...]] = None\n",
    "\n",
    "\n",
    "class CompressionModel(transformers.T5ForConditionalGeneration):\n",
    "    def __init__(self, config):\n",
    "        super().__init__(config)\n",
    "\n",
    "        self.critic_head = nn.Linear(config.d_model, 1)\n",
    "        self.critic_head.weight.data.normal_(mean=0.0, std=(1 / config.d_model))\n",
    "        self.critic_head.bias.data.zero_()\n",
    "\n",
    "    def forward(\n",
    "        self,\n",
    "        input_ids: Optional[torch.LongTensor] = None,\n",
    "        attention_mask: Optional[torch.FloatTensor] = None,\n",
    "        decoder_input_ids: Optional[torch.LongTensor] = None,\n",
    "        decoder_attention_mask: Optional[torch.BoolTensor] = None,\n",
    "        head_mask: Optional[torch.FloatTensor] = None,\n",
    "        decoder_head_mask: Optional[torch.FloatTensor] = None,\n",
    "        cross_attn_head_mask: Optional[torch.Tensor] = None,\n",
    "        encoder_outputs: Optional[Tuple[Tuple[torch.Tensor]]] = None,\n",
    "        past_key_values: Optional[Tuple[Tuple[torch.Tensor]]] = None,\n",
    "        inputs_embeds: Optional[torch.FloatTensor] = None,\n",
    "        decoder_inputs_embeds: Optional[torch.FloatTensor] = None,\n",
    "        labels: Optional[torch.LongTensor] = None,\n",
    "        use_cache: Optional[bool] = None,\n",
    "        output_attentions: Optional[bool] = None,\n",
    "        output_hidden_states: Optional[bool] = True,\n",
    "        return_dict: Optional[bool] = None,\n",
    "    ) -> Union[Tuple[torch.FloatTensor], CompressionOutput]:\n",
    "        output = super().forward(\n",
    "            input_ids=input_ids,\n",
    "            attention_mask=attention_mask,\n",
    "            decoder_input_ids=decoder_input_ids,\n",
    "            decoder_attention_mask=decoder_attention_mask,\n",
    "            head_mask=head_mask,\n",
    "            decoder_head_mask=decoder_head_mask,\n",
    "            cross_attn_head_mask=cross_attn_head_mask,\n",
    "            encoder_outputs=encoder_outputs,\n",
    "            past_key_values=past_key_values,\n",
    "            inputs_embeds=inputs_embeds,\n",
    "            decoder_inputs_embeds=decoder_inputs_embeds,\n",
    "            labels=labels,\n",
    "            use_cache=use_cache,\n",
    "            output_attentions=output_attentions,\n",
    "            output_hidden_states=output_hidden_states,\n",
    "            return_dict=return_dict,\n",
    "        )\n",
    "\n",
    "        if output.decoder_hidden_states is not None:\n",
    "            last_hidden_state = output.decoder_hidden_states[-1]\n",
    "            value_predictions = self.critic_head(last_hidden_state).squeeze(-1)\n",
    "        else:\n",
    "            value_predictions = None\n",
    "\n",
    "        loss = None\n",
    "        if labels is not None:\n",
    "            loss_fct = nn.CrossEntropyLoss(ignore_index=self.config.pad_token_id)\n",
    "            loss = loss_fct(output.logits.view(-1, self.config.vocab_size), labels.view(-1))\n",
    "\n",
    "        return CompressionOutput(\n",
    "            loss=loss,\n",
    "            value_predictions=value_predictions,\n",
    "            logits=output.logits,\n",
    "            past_key_values=output.past_key_values,\n",
    "            decoder_hidden_states=output.decoder_hidden_states,\n",
    "            decoder_attentions=output.decoder_attentions,\n",
    "            cross_attentions=output.cross_attentions,\n",
    "            encoder_last_hidden_state=output.encoder_last_hidden_state,\n",
    "            encoder_hidden_states=output.encoder_hidden_states,\n",
    "            encoder_attentions=output.encoder_attentions,\n",
    "        )\n"
   ]
  },
  {
   "cell_type": "code",
   "execution_count": 7,
   "metadata": {
    "id": "XMVtNmiu-30c"
   },
   "outputs": [],
   "source": [
    "import transformers\n",
    "import transformers.modeling_outputs\n",
    "\n",
    "\n",
    "class DecompressionConfig(transformers.T5Config): ...\n",
    "\n",
    "\n",
    "class DecompressionModel(transformers.T5ForConditionalGeneration): ..."
   ]
  },
  {
   "cell_type": "code",
   "execution_count": 8,
   "metadata": {
    "id": "-OTuhuS295RZ"
   },
   "outputs": [],
   "source": [
    "from pathlib import Path\n",
    "\n",
    "device = torch.device(\"cuda:1\" if torch.cuda.is_available() else \"cpu\")\n",
    "MODEL_PATH = Path(\"./data/models/token-dethcod/a2c-v2-reward-norm\")"
   ]
  },
  {
   "cell_type": "markdown",
   "metadata": {
    "id": "qm6-SLkqw4bA"
   },
   "source": [
    "### Load Model"
   ]
  },
  {
   "cell_type": "code",
   "execution_count": 9,
   "metadata": {
    "colab": {
     "base_uri": "https://localhost:8080/"
    },
    "id": "bZRSpc8ow4bA",
    "outputId": "ac709f40-8c80-4058-fb1f-15b448bccc1e"
   },
   "outputs": [],
   "source": [
    "LOAD_LATEST = True\n",
    "\n",
    "if LOAD_LATEST:\n",
    "    compressor = CompressionModel.from_pretrained(MODEL_PATH / \"compressor\").to(device)\n",
    "    decompressor = DecompressionModel.from_pretrained(MODEL_PATH / \"decompressor\").to(device)\n",
    "\n",
    "else:\n",
    "    print(f\"Loading {MODEL_ID}\")\n",
    "    compressor = CompressionModel.from_pretrained(MODEL_ID, quantization_config=quantization_config).to(device)\n",
    "    compressor.critic_head.reset_parameters()\n",
    "    decompressor = DecompressionModel.from_pretrained(MODEL_ID, quantization_config=quantization_config).to(device)"
   ]
  },
  {
   "cell_type": "markdown",
   "metadata": {
    "id": "WeKAyrQz5k_k"
   },
   "source": [
    "## Eval"
   ]
  },
  {
   "cell_type": "code",
   "execution_count": 10,
   "metadata": {
    "id": "zioTdU4gA2J2"
   },
   "outputs": [],
   "source": [
    "import math\n",
    "\n",
    "BATCH_SIZE = 16\n",
    "REWARD_SCALING = 0.01\n",
    "MAX_TOKEN_COST = math.log(compressor.config.vocab_size)\n",
    "\n",
    "train_dataset = dataset\n",
    "data_loader = torch.utils.data.DataLoader(train_dataset, batch_size=BATCH_SIZE, shuffle=True)"
   ]
  },
  {
   "cell_type": "code",
   "execution_count": 12,
   "metadata": {
    "id": "SUo_c6cyTx2Y",
    "outputId": "317d1857-2c8e-45a7-ada8-99ef974f8124"
   },
   "outputs": [
    {
     "data": {
      "text/html": [
       "Finishing last run (ID:25pvmaik) before initializing another..."
      ],
      "text/plain": [
       "<IPython.core.display.HTML object>"
      ]
     },
     "metadata": {},
     "output_type": "display_data"
    },
    {
     "data": {
      "application/vnd.jupyter.widget-view+json": {
       "model_id": "",
       "version_major": 2,
       "version_minor": 0
      },
      "text/plain": [
       "VBox(children=(Label(value='0.047 MB of 0.071 MB uploaded (0.004 MB deduped)\\r'), FloatProgress(value=0.663507…"
      ]
     },
     "metadata": {},
     "output_type": "display_data"
    },
    {
     "name": "stderr",
     "output_type": "stream",
     "text": [
      "wandb: ERROR Error uploading \"requirements.txt\": CommError, <Response [403]>\n"
     ]
    },
    {
     "data": {
      "text/html": [
       "W&B sync reduced upload amount by 5.2%             "
      ],
      "text/plain": [
       "<IPython.core.display.HTML object>"
      ]
     },
     "metadata": {},
     "output_type": "display_data"
    },
    {
     "data": {
      "text/html": [
       " View run <strong style=\"color:#cdcd00\">Evaluation</strong> at: <a href='https://wandb.ai/chihuahuas/DETHCOD/runs/25pvmaik' target=\"_blank\">https://wandb.ai/chihuahuas/DETHCOD/runs/25pvmaik</a><br/> View project at: <a href='https://wandb.ai/chihuahuas/DETHCOD' target=\"_blank\">https://wandb.ai/chihuahuas/DETHCOD</a><br/>Synced 5 W&B file(s), 0 media file(s), 2 artifact file(s) and 0 other file(s)"
      ],
      "text/plain": [
       "<IPython.core.display.HTML object>"
      ]
     },
     "metadata": {},
     "output_type": "display_data"
    },
    {
     "data": {
      "text/html": [
       "Find logs at: <code>./wandb/run-20241215_171829-25pvmaik/logs</code>"
      ],
      "text/plain": [
       "<IPython.core.display.HTML object>"
      ]
     },
     "metadata": {},
     "output_type": "display_data"
    },
    {
     "data": {
      "text/html": [
       "Successfully finished last run (ID:25pvmaik). Initializing new run:<br/>"
      ],
      "text/plain": [
       "<IPython.core.display.HTML object>"
      ]
     },
     "metadata": {},
     "output_type": "display_data"
    },
    {
     "data": {
      "application/vnd.jupyter.widget-view+json": {
       "model_id": "05172a4a8ff24a4785a3df5c9d62c633",
       "version_major": 2,
       "version_minor": 0
      },
      "text/plain": [
       "VBox(children=(Label(value='Waiting for wandb.init()...\\r'), FloatProgress(value=0.011113023866588871, max=1.0…"
      ]
     },
     "metadata": {},
     "output_type": "display_data"
    },
    {
     "data": {
      "text/html": [
       "wandb version 0.19.1 is available!  To upgrade, please run:\n",
       " $ pip install wandb --upgrade"
      ],
      "text/plain": [
       "<IPython.core.display.HTML object>"
      ]
     },
     "metadata": {},
     "output_type": "display_data"
    },
    {
     "data": {
      "text/html": [
       "Tracking run with wandb version 0.16.6"
      ],
      "text/plain": [
       "<IPython.core.display.HTML object>"
      ]
     },
     "metadata": {},
     "output_type": "display_data"
    },
    {
     "data": {
      "text/html": [
       "Run data is saved locally in <code>/home/khodabandeh/Projects/dethcod/wandb/run-20241215_171835-qtzvtxmb</code>"
      ],
      "text/plain": [
       "<IPython.core.display.HTML object>"
      ]
     },
     "metadata": {},
     "output_type": "display_data"
    },
    {
     "data": {
      "text/html": [
       "Syncing run <strong><a href='https://wandb.ai/chihuahuas/DETHCOD/runs/qtzvtxmb' target=\"_blank\">Evaluation</a></strong> to <a href='https://wandb.ai/chihuahuas/DETHCOD' target=\"_blank\">Weights & Biases</a> (<a href='https://wandb.me/run' target=\"_blank\">docs</a>)<br/>"
      ],
      "text/plain": [
       "<IPython.core.display.HTML object>"
      ]
     },
     "metadata": {},
     "output_type": "display_data"
    },
    {
     "data": {
      "text/html": [
       " View project at <a href='https://wandb.ai/chihuahuas/DETHCOD' target=\"_blank\">https://wandb.ai/chihuahuas/DETHCOD</a>"
      ],
      "text/plain": [
       "<IPython.core.display.HTML object>"
      ]
     },
     "metadata": {},
     "output_type": "display_data"
    },
    {
     "data": {
      "text/html": [
       " View run at <a href='https://wandb.ai/chihuahuas/DETHCOD/runs/qtzvtxmb' target=\"_blank\">https://wandb.ai/chihuahuas/DETHCOD/runs/qtzvtxmb</a>"
      ],
      "text/plain": [
       "<IPython.core.display.HTML object>"
      ]
     },
     "metadata": {},
     "output_type": "display_data"
    },
    {
     "data": {
      "text/html": [
       "<button onClick=\"this.nextSibling.style.display='block';this.style.display='none';\">Display W&B run</button><iframe src='https://wandb.ai/chihuahuas/DETHCOD/runs/qtzvtxmb?jupyter=true' style='border:none;width:100%;height:420px;display:none;'></iframe>"
      ],
      "text/plain": [
       "<wandb.sdk.wandb_run.Run at 0x7f040aaa11d0>"
      ]
     },
     "execution_count": 12,
     "metadata": {},
     "output_type": "execute_result"
    }
   ],
   "source": [
    "import wandb\n",
    "\n",
    "wandb.init(\n",
    "    name = \"Evaluation\",\n",
    "    project=\"DETHCOD\",\n",
    "    config={\n",
    "        \"compressor_model_config\": compressor.config.to_dict(),\n",
    "        \"decompressor_model_config\": decompressor.config.to_dict(),\n",
    "        # TODO: Add other parameters\n",
    "    },\n",
    ")"
   ]
  },
  {
   "cell_type": "code",
   "execution_count": null,
   "metadata": {
    "id": "YRjMbckLw4bB",
    "outputId": "f6b49273-3ea8-423c-abb1-6e4b49df4bdf"
   },
   "outputs": [],
   "source": [
    "# graph = wandb.watch((compressor.critic_head, compressor.lm_head), log_freq=100, log=\"all\", log_graph=True)"
   ]
  },
  {
   "cell_type": "markdown",
   "metadata": {
    "id": "81konK25w4bB"
   },
   "source": [
    "### RL Training Loop"
   ]
  },
  {
   "cell_type": "code",
   "execution_count": null,
   "metadata": {
    "colab": {
     "base_uri": "https://localhost:8080/",
     "height": 423,
     "referenced_widgets": [
      "259751f990bc4422b181c49619700334",
      "a1b0cd399a2d44e6a5f3431ac861d2d2",
      "b9be4ff6d92f4112aa8078e96b3838db",
      "96e4d29108ca47ea9beb7f7b1a78d79a",
      "8b32e1b93368443f981ec8187016c7f2",
      "065511e68dfb4053b4f0a70ef7a91ee3",
      "b2826da9f9314c1cb966b54a7b6120fe",
      "7a87b54b7ed549bdb26958bf7f803af2",
      "dad9de6f3118448eb665a9fcb544ff68",
      "05f070c4b1294821b0874bf4ddc9d7d7",
      "95b6d03796e84153a5e2a6904d640659"
     ]
    },
    "id": "-71bvb9b4Rth",
    "outputId": "af7ae39c-cd07-4490-ed2c-d66ef023f852"
   },
   "outputs": [
    {
     "data": {
      "application/vnd.jupyter.widget-view+json": {
       "model_id": "815b3c6bca8f43ab914ed761b26e9a8c",
       "version_major": 2,
       "version_minor": 0
      },
      "text/plain": [
       "  0%|          | 0/53444 [00:00<?, ?it/s]"
      ]
     },
     "metadata": {},
     "output_type": "display_data"
    }
   ],
   "source": [
    "import torch.nn.functional as F\n",
    "import tqdm.auto as tqdm\n",
    "from transformers import GenerationConfig\n",
    "\n",
    "torch.set_grad_enabled(False)\n",
    "\n",
    "# Define your generation configuration as before\n",
    "generation_config = GenerationConfig(\n",
    "    do_sample=True,\n",
    "    num_beams=1,\n",
    "    max_new_tokens=128,\n",
    "    decoder_start_token_id=compressor.generation_config.decoder_start_token_id,\n",
    "    eos_token_id=compressor.generation_config.eos_token_id,\n",
    "    pad_token_id=compressor.generation_config.pad_token_id,\n",
    "    return_dict_in_generate=True,\n",
    "    output_logits=True,\n",
    ")\n",
    "\n",
    "total_decompressed_size = 0\n",
    "total_compressed_size = 0\n",
    "\n",
    "with tqdm.tqdm(data_loader) as pbar:\n",
    "    for step, batch in enumerate(pbar):\n",
    "        # Get the current token cost from the scheduler\n",
    "        token_cost = MAX_TOKEN_COST\n",
    "\n",
    "        input_ids = tokenizer(\n",
    "            batch[\"text\"],\n",
    "            return_tensors=\"pt\",\n",
    "            padding=True,\n",
    "            # TODO: Test if this has any effect\n",
    "            truncation=True,\n",
    "        ).input_ids.to(device)\n",
    "\n",
    "        compressed = compressor.generate(input_ids=input_ids, generation_config=generation_config)\n",
    "        decompressed = decompressor.forward(input_ids=compressed.sequences, labels=input_ids)\n",
    "\n",
    "        full_episodes = (compressed.sequences != generation_config.eos_token_id).all(dim=-1)\n",
    "        sequences_copy = compressed.sequences.clone()\n",
    "        sequences_copy[..., full_episodes, -1] = generation_config.eos_token_id\n",
    "        compressed.sequences = sequences_copy\n",
    "\n",
    "        actions = compressed.sequences[..., 1:]\n",
    "        # compressed.logits: [\n",
    "        #      torch.tensor(shape=(B, V))\n",
    "        # ]\n",
    "        # (L, B, V)\n",
    "        # (B, L, V)\n",
    "        action_distributions = torch.stack(compressed.logits).transpose(0, 1)\n",
    "        # TODO: Give the `actions` as decoder_input_ids instead\n",
    "        values = compressor.forward(input_ids=input_ids, decoder_input_ids=compressed.sequences).value_predictions[..., :-1]\n",
    "        action_mask = actions != generation_config.pad_token_id\n",
    "        is_pad = actions == generation_config.pad_token_id\n",
    "        is_eos = actions == generation_config.eos_token_id\n",
    "        compressed_length = actions.size(-1) - is_pad.logical_or(is_eos).sum(dim=-1)\n",
    "\n",
    "        losses = F.cross_entropy(\n",
    "            decompressed.logits.flatten(0, -2),\n",
    "            target=input_ids.flatten(),\n",
    "            ignore_index=0,\n",
    "            reduction=\"none\",\n",
    "        ).view(input_ids.shape)\n",
    "        decompressor_loss = losses.mean()\n",
    "\n",
    "        sequence_compression_loss = losses.detach().sum(dim=-1)\n",
    "        rewards = torch.where(\n",
    "            actions == generation_config.eos_token_id,\n",
    "            -sequence_compression_loss.unsqueeze(-1),\n",
    "            -token_cost,\n",
    "        ) * action_mask * REWARD_SCALING\n",
    "        # TODO: Implement temporal difference learning\n",
    "        qs = rewards.flip(dims=[-1]).cumsum(dim=-1).flip(dims=[-1])\n",
    "\n",
    "        advantage = (qs - values) * action_mask\n",
    "        num_actions = action_mask.sum()\n",
    "        expected_advantage = advantage.sum() / num_actions\n",
    "        critic_loss = (advantage * advantage).sum() / num_actions\n",
    "\n",
    "        data_costs = torch.where(\n",
    "            actions == generation_config.eos_token_id,\n",
    "            sequence_compression_loss.unsqueeze(-1),\n",
    "            MAX_TOKEN_COST,\n",
    "        ) * action_mask\n",
    "        compressed_size = data_costs.sum(dim=-1)\n",
    "        total_compressed_size += compressed_size.sum().item()\n",
    "        decompressed_size = (input_ids != 0).sum(dim=-1) * MAX_TOKEN_COST\n",
    "        total_decompressed_size += decompressed_size.sum().item()\n",
    "        compression_ratio = (decompressed_size / compressed_size).mean()\n",
    "\n",
    "        action_logits = F.cross_entropy(\n",
    "            action_distributions.flatten(0, -2),\n",
    "            target=actions.flatten(),\n",
    "            ignore_index=0,\n",
    "            reduction=\"none\",\n",
    "        ).view(actions.shape)\n",
    "        actor_loss = (action_logits * advantage.detach()).mean()\n",
    "\n",
    "        compressor_loss = actor_loss + critic_loss\n",
    "\n",
    "        pbar.set_description(f\"{compression_ratio=:.2f}, {critic_loss=:.2f}, {actor_loss=:.2f}, {decompressor_loss=:.2f}\")\n",
    "\n",
    "        with torch.no_grad():\n",
    "            wandb.log(\n",
    "                {\n",
    "                    \"actor_loss\": actor_loss,\n",
    "                    \"critic_loss\": critic_loss,\n",
    "                    \"reward\": rewards.sum(dim=-1).mean(),\n",
    "                    \"decompressor_loss\": decompressor_loss,\n",
    "                    \"accuracy\": (-sequence_compression_loss).exp().mean(),\n",
    "                    \"compressed_size\": compressed_length.float().mean(),\n",
    "                    \"compression_ratio\": compression_ratio,\n",
    "                    \"expected_advantage\": expected_advantage,\n",
    "                    \"token_cost\": token_cost,\n",
    "                    \"total_compressed_size\": total_compressed_size,\n",
    "                    \"total_decompressed_size\": total_decompressed_size,\n",
    "                    \"running_compression_ratio\": total_decompressed_size / total_compressed_size,\n",
    "                }\n",
    "            )\n"
   ]
  },
  {
   "cell_type": "code",
   "execution_count": 18,
   "metadata": {
    "id": "MHotTfInw4bB"
   },
   "outputs": [
    {
     "data": {
      "application/vnd.jupyter.widget-view+json": {
       "model_id": "",
       "version_major": 2,
       "version_minor": 0
      },
      "text/plain": [
       "VBox(children=(Label(value='5.613 MB of 5.613 MB uploaded (0.074 MB deduped)\\r'), FloatProgress(value=1.0, max…"
      ]
     },
     "metadata": {},
     "output_type": "display_data"
    },
    {
     "data": {
      "text/html": [
       "W&B sync reduced upload amount by 1.3%             "
      ],
      "text/plain": [
       "<IPython.core.display.HTML object>"
      ]
     },
     "metadata": {},
     "output_type": "display_data"
    },
    {
     "data": {
      "text/html": [
       "<style>\n",
       "    table.wandb td:nth-child(1) { padding: 0 10px; text-align: left ; width: auto;} td:nth-child(2) {text-align: left ; width: 100%}\n",
       "    .wandb-row { display: flex; flex-direction: row; flex-wrap: wrap; justify-content: flex-start; width: 100% }\n",
       "    .wandb-col { display: flex; flex-direction: column; flex-basis: 100%; flex: 1; padding: 10px; }\n",
       "    </style>\n",
       "<div class=\"wandb-row\"><div class=\"wandb-col\"><h3>Run history:</h3><br/><table class=\"wandb\"><tr><td>accuracy</td><td>▅▃▂▃▆▂▁▁▄▃▁▄▄▅▄▃▃▂▁▅▃▄▃▂▂▃▂▂▄▃▁▁█▂▁▁▄▁▄▃</td></tr><tr><td>actor_loss</td><td>▃▃▅▆▃▇▄▄▅▄▄▃▆▄▄▅▂▆▅▅▇▅▆▄▄▄▅▃▇▆▅▄▂▁█▃▂▆▅▅</td></tr><tr><td>compressed_size</td><td>▅▅▄▂▄▂▅▅▃▄▅▆▃▃▄▁▆▃▃▂▂▃▄▂▂▂▂▅▁▂▃▅█▇▁▅▆▂▅▄</td></tr><tr><td>compression_ratio</td><td>▂▁▂▁▅▄▁▂▄▁▃▂█▆▂▃▃▁▃▅▄▃▁▅▂▇▃▃▄▃▂▁▂▁▃▁▄▅▁▃</td></tr><tr><td>critic_loss</td><td>▄▃▁▁▄▁▂▃▂▃▂▃▂▂▁▁▅▂▂▂▁▁▁▂▃▃▂▂▁▂▂▂▃▅▁▃█▁▁▂</td></tr><tr><td>decompressor_loss</td><td>▃▃▃▃▂▃▁▄▄▃▃▅▁▂▂▄▅▇▃▄▃▄▂▃▄▅▄▆▄▄▂▃▄▅█▄▂▄▄▃</td></tr><tr><td>expected_advantage</td><td>▄▄▆▆▃▇▅▄▅▄▄▄▇▅▆▆▂▇▆▇▇▆▇▅▅▅▆▄▇▇▆▄▃▂█▄▁▆▆▆</td></tr><tr><td>reward</td><td>▆▅▇▄▇▅▆▆▅▄▅▅▇▆▆▂▄▇▄█▆▄▅▆▃▆▄▆▄▅▆▃▆▅▄▁▄▂▁▅</td></tr><tr><td>running_compression_ratio</td><td>▁█▄▃▃▃▄▄▄▄▄▄▄▄▃▃▃▃▃▃▃▃▃▃▃▃▃▃▃▃▃▃▃▃▃▃▃▃▃▃</td></tr><tr><td>token_cost</td><td>▁▁▁▁▁▁▁▁▁▁▁▁▁▁▁▁▁▁▁▁▁▁▁▁▁▁▁▁▁▁▁▁▁▁▁▁▁▁▁▁</td></tr><tr><td>total_compressed_size</td><td>▁▁▁▁▂▂▂▂▂▃▃▃▃▃▃▄▄▄▄▄▅▅▅▅▅▅▆▆▆▆▆▇▇▇▇▇▇███</td></tr><tr><td>total_decompressed_size</td><td>▁▁▁▁▂▂▂▂▂▃▃▃▃▃▃▄▄▄▄▄▅▅▅▅▅▅▆▆▆▆▆▇▇▇▇▇▇███</td></tr></table><br/></div><div class=\"wandb-col\"><h3>Run summary:</h3><br/><table class=\"wandb\"><tr><td>accuracy</td><td>0.00253</td></tr><tr><td>actor_loss</td><td>0.56255</td></tr><tr><td>compressed_size</td><td>2.5</td></tr><tr><td>compression_ratio</td><td>1.84862</td></tr><tr><td>critic_loss</td><td>0.05163</td></tr><tr><td>decompressor_loss</td><td>1.1767</td></tr><tr><td>expected_advantage</td><td>0.20043</td></tr><tr><td>reward</td><td>-0.36534</td></tr><tr><td>running_compression_ratio</td><td>2.70787</td></tr><tr><td>token_cost</td><td>10.37748</td></tr><tr><td>total_compressed_size</td><td>80595864.103</td></tr><tr><td>total_decompressed_size</td><td>218243475.95416</td></tr></table><br/></div></div>"
      ],
      "text/plain": [
       "<IPython.core.display.HTML object>"
      ]
     },
     "metadata": {},
     "output_type": "display_data"
    },
    {
     "data": {
      "text/html": [
       " View run <strong style=\"color:#cdcd00\">Evaluation</strong> at: <a href='https://wandb.ai/chihuahuas/DETHCOD/runs/d3am86yx' target=\"_blank\">https://wandb.ai/chihuahuas/DETHCOD/runs/d3am86yx</a><br/> View project at: <a href='https://wandb.ai/chihuahuas/DETHCOD' target=\"_blank\">https://wandb.ai/chihuahuas/DETHCOD</a><br/>Synced 6 W&B file(s), 0 media file(s), 7 artifact file(s) and 2 other file(s)"
      ],
      "text/plain": [
       "<IPython.core.display.HTML object>"
      ]
     },
     "metadata": {},
     "output_type": "display_data"
    },
    {
     "data": {
      "text/html": [
       "Find logs at: <code>./wandb/run-20241205_153441-d3am86yx/logs</code>"
      ],
      "text/plain": [
       "<IPython.core.display.HTML object>"
      ]
     },
     "metadata": {},
     "output_type": "display_data"
    }
   ],
   "source": [
    "wandb.finish()"
   ]
  },
  {
   "cell_type": "markdown",
   "metadata": {
    "id": "EomSPfQ1w4bC"
   },
   "source": [
    "### Save"
   ]
  },
  {
   "cell_type": "code",
   "execution_count": null,
   "metadata": {},
   "outputs": [],
   "source": [
    "MODEL_PATH = Path(\"./data/models/token-dethcod/a2c-v1-reward-norm\")"
   ]
  },
  {
   "cell_type": "code",
   "execution_count": null,
   "metadata": {
    "id": "Hx_Iec6iw4bC"
   },
   "outputs": [],
   "source": [
    "compressor.save_pretrained(MODEL_PATH / \"compressor\")"
   ]
  },
  {
   "cell_type": "code",
   "execution_count": null,
   "metadata": {
    "id": "33cJmyN2w4bC"
   },
   "outputs": [],
   "source": [
    "decompressor.save_pretrained(MODEL_PATH / \"decompressor\")"
   ]
  }
 ],
 "metadata": {
  "accelerator": "GPU",
  "colab": {
   "gpuType": "T4",
   "provenance": []
  },
  "kernelspec": {
   "display_name": "Python 3 (ipykernel)",
   "language": "python",
   "name": "python3"
  },
  "language_info": {
   "codemirror_mode": {
    "name": "ipython",
    "version": 3
   },
   "file_extension": ".py",
   "mimetype": "text/x-python",
   "name": "python",
   "nbconvert_exporter": "python",
   "pygments_lexer": "ipython3",
   "version": "3.11.10"
  },
  "widgets": {
   "application/vnd.jupyter.widget-state+json": {
    "0124c91212644264aaf84fe52e26e1dd": {
     "model_module": "@jupyter-widgets/controls",
     "model_module_version": "1.5.0",
     "model_name": "HTMLModel",
     "state": {
      "_dom_classes": [],
      "_model_module": "@jupyter-widgets/controls",
      "_model_module_version": "1.5.0",
      "_model_name": "HTMLModel",
      "_view_count": null,
      "_view_module": "@jupyter-widgets/controls",
      "_view_module_version": "1.5.0",
      "_view_name": "HTMLView",
      "description": "",
      "description_tooltip": null,
      "layout": "IPY_MODEL_71f62c2eb9ad40e289c5bbcc0c95490d",
      "placeholder": "​",
      "style": "IPY_MODEL_bc1b308fdc1b4e80a6d04a70e75de34e",
      "value": "Filter: 100%"
     }
    },
    "05f070c4b1294821b0874bf4ddc9d7d7": {
     "model_module": "@jupyter-widgets/base",
     "model_module_version": "1.2.0",
     "model_name": "LayoutModel",
     "state": {
      "_model_module": "@jupyter-widgets/base",
      "_model_module_version": "1.2.0",
      "_model_name": "LayoutModel",
      "_view_count": null,
      "_view_module": "@jupyter-widgets/base",
      "_view_module_version": "1.2.0",
      "_view_name": "LayoutView",
      "align_content": null,
      "align_items": null,
      "align_self": null,
      "border": null,
      "bottom": null,
      "display": null,
      "flex": null,
      "flex_flow": null,
      "grid_area": null,
      "grid_auto_columns": null,
      "grid_auto_flow": null,
      "grid_auto_rows": null,
      "grid_column": null,
      "grid_gap": null,
      "grid_row": null,
      "grid_template_areas": null,
      "grid_template_columns": null,
      "grid_template_rows": null,
      "height": null,
      "justify_content": null,
      "justify_items": null,
      "left": null,
      "margin": null,
      "max_height": null,
      "max_width": null,
      "min_height": null,
      "min_width": null,
      "object_fit": null,
      "object_position": null,
      "order": null,
      "overflow": null,
      "overflow_x": null,
      "overflow_y": null,
      "padding": null,
      "right": null,
      "top": null,
      "visibility": null,
      "width": null
     }
    },
    "065511e68dfb4053b4f0a70ef7a91ee3": {
     "model_module": "@jupyter-widgets/base",
     "model_module_version": "1.2.0",
     "model_name": "LayoutModel",
     "state": {
      "_model_module": "@jupyter-widgets/base",
      "_model_module_version": "1.2.0",
      "_model_name": "LayoutModel",
      "_view_count": null,
      "_view_module": "@jupyter-widgets/base",
      "_view_module_version": "1.2.0",
      "_view_name": "LayoutView",
      "align_content": null,
      "align_items": null,
      "align_self": null,
      "border": null,
      "bottom": null,
      "display": null,
      "flex": null,
      "flex_flow": null,
      "grid_area": null,
      "grid_auto_columns": null,
      "grid_auto_flow": null,
      "grid_auto_rows": null,
      "grid_column": null,
      "grid_gap": null,
      "grid_row": null,
      "grid_template_areas": null,
      "grid_template_columns": null,
      "grid_template_rows": null,
      "height": null,
      "justify_content": null,
      "justify_items": null,
      "left": null,
      "margin": null,
      "max_height": null,
      "max_width": null,
      "min_height": null,
      "min_width": null,
      "object_fit": null,
      "object_position": null,
      "order": null,
      "overflow": null,
      "overflow_x": null,
      "overflow_y": null,
      "padding": null,
      "right": null,
      "top": null,
      "visibility": null,
      "width": null
     }
    },
    "06df0c8f7b974e189272f1a91a5e28c5": {
     "model_module": "@jupyter-widgets/controls",
     "model_module_version": "1.5.0",
     "model_name": "ProgressStyleModel",
     "state": {
      "_model_module": "@jupyter-widgets/controls",
      "_model_module_version": "1.5.0",
      "_model_name": "ProgressStyleModel",
      "_view_count": null,
      "_view_module": "@jupyter-widgets/base",
      "_view_module_version": "1.2.0",
      "_view_name": "StyleView",
      "bar_color": null,
      "description_width": ""
     }
    },
    "1925655871374689a1057b008f889052": {
     "model_module": "@jupyter-widgets/controls",
     "model_module_version": "1.5.0",
     "model_name": "FloatProgressModel",
     "state": {
      "_dom_classes": [],
      "_model_module": "@jupyter-widgets/controls",
      "_model_module_version": "1.5.0",
      "_model_name": "FloatProgressModel",
      "_view_count": null,
      "_view_module": "@jupyter-widgets/controls",
      "_view_module_version": "1.5.0",
      "_view_name": "ProgressView",
      "bar_style": "success",
      "description": "",
      "description_tooltip": null,
      "layout": "IPY_MODEL_232f001ecfd4414aba63125571389434",
      "max": 1,
      "min": 0,
      "orientation": "horizontal",
      "style": "IPY_MODEL_06df0c8f7b974e189272f1a91a5e28c5",
      "value": 1
     }
    },
    "1dc435da8c744a6282e8f7cfce8b4f2f": {
     "model_module": "@jupyter-widgets/controls",
     "model_module_version": "1.5.0",
     "model_name": "DescriptionStyleModel",
     "state": {
      "_model_module": "@jupyter-widgets/controls",
      "_model_module_version": "1.5.0",
      "_model_name": "DescriptionStyleModel",
      "_view_count": null,
      "_view_module": "@jupyter-widgets/base",
      "_view_module_version": "1.2.0",
      "_view_name": "StyleView",
      "description_width": ""
     }
    },
    "2011e26c9fde4ada959624a30d935c6b": {
     "model_module": "@jupyter-widgets/controls",
     "model_module_version": "1.5.0",
     "model_name": "HBoxModel",
     "state": {
      "_dom_classes": [],
      "_model_module": "@jupyter-widgets/controls",
      "_model_module_version": "1.5.0",
      "_model_name": "HBoxModel",
      "_view_count": null,
      "_view_module": "@jupyter-widgets/controls",
      "_view_module_version": "1.5.0",
      "_view_name": "HBoxView",
      "box_style": "",
      "children": [
       "IPY_MODEL_55a34be2f9d14d00926062efafa2d7b0",
       "IPY_MODEL_1925655871374689a1057b008f889052",
       "IPY_MODEL_576e75f0473145168b5d166acb903643"
      ],
      "layout": "IPY_MODEL_532d04fe48164a00a8db36177c9ea152"
     }
    },
    "22d010b51fd34ddf82627507aed81676": {
     "model_module": "@jupyter-widgets/controls",
     "model_module_version": "1.5.0",
     "model_name": "DescriptionStyleModel",
     "state": {
      "_model_module": "@jupyter-widgets/controls",
      "_model_module_version": "1.5.0",
      "_model_name": "DescriptionStyleModel",
      "_view_count": null,
      "_view_module": "@jupyter-widgets/base",
      "_view_module_version": "1.2.0",
      "_view_name": "StyleView",
      "description_width": ""
     }
    },
    "232f001ecfd4414aba63125571389434": {
     "model_module": "@jupyter-widgets/base",
     "model_module_version": "1.2.0",
     "model_name": "LayoutModel",
     "state": {
      "_model_module": "@jupyter-widgets/base",
      "_model_module_version": "1.2.0",
      "_model_name": "LayoutModel",
      "_view_count": null,
      "_view_module": "@jupyter-widgets/base",
      "_view_module_version": "1.2.0",
      "_view_name": "LayoutView",
      "align_content": null,
      "align_items": null,
      "align_self": null,
      "border": null,
      "bottom": null,
      "display": null,
      "flex": null,
      "flex_flow": null,
      "grid_area": null,
      "grid_auto_columns": null,
      "grid_auto_flow": null,
      "grid_auto_rows": null,
      "grid_column": null,
      "grid_gap": null,
      "grid_row": null,
      "grid_template_areas": null,
      "grid_template_columns": null,
      "grid_template_rows": null,
      "height": null,
      "justify_content": null,
      "justify_items": null,
      "left": null,
      "margin": null,
      "max_height": null,
      "max_width": null,
      "min_height": null,
      "min_width": null,
      "object_fit": null,
      "object_position": null,
      "order": null,
      "overflow": null,
      "overflow_x": null,
      "overflow_y": null,
      "padding": null,
      "right": null,
      "top": null,
      "visibility": null,
      "width": "20px"
     }
    },
    "259751f990bc4422b181c49619700334": {
     "model_module": "@jupyter-widgets/controls",
     "model_module_version": "1.5.0",
     "model_name": "HBoxModel",
     "state": {
      "_dom_classes": [],
      "_model_module": "@jupyter-widgets/controls",
      "_model_module_version": "1.5.0",
      "_model_name": "HBoxModel",
      "_view_count": null,
      "_view_module": "@jupyter-widgets/controls",
      "_view_module_version": "1.5.0",
      "_view_name": "HBoxView",
      "box_style": "",
      "children": [
       "IPY_MODEL_a1b0cd399a2d44e6a5f3431ac861d2d2",
       "IPY_MODEL_b9be4ff6d92f4112aa8078e96b3838db",
       "IPY_MODEL_96e4d29108ca47ea9beb7f7b1a78d79a"
      ],
      "layout": "IPY_MODEL_8b32e1b93368443f981ec8187016c7f2"
     }
    },
    "3bf1e9a699f14d709b1f81ae98bf1215": {
     "model_module": "@jupyter-widgets/controls",
     "model_module_version": "1.5.0",
     "model_name": "HBoxModel",
     "state": {
      "_dom_classes": [],
      "_model_module": "@jupyter-widgets/controls",
      "_model_module_version": "1.5.0",
      "_model_name": "HBoxModel",
      "_view_count": null,
      "_view_module": "@jupyter-widgets/controls",
      "_view_module_version": "1.5.0",
      "_view_name": "HBoxView",
      "box_style": "",
      "children": [
       "IPY_MODEL_0124c91212644264aaf84fe52e26e1dd",
       "IPY_MODEL_61bc579763f6454cb6a36dc80b9068a0",
       "IPY_MODEL_f056e5f5aec54fe8b3cfc121e1c24430"
      ],
      "layout": "IPY_MODEL_e6563f7242f3412a940b8761621eeac7"
     }
    },
    "4b524028a9564a61a935d10083922c4c": {
     "model_module": "@jupyter-widgets/base",
     "model_module_version": "1.2.0",
     "model_name": "LayoutModel",
     "state": {
      "_model_module": "@jupyter-widgets/base",
      "_model_module_version": "1.2.0",
      "_model_name": "LayoutModel",
      "_view_count": null,
      "_view_module": "@jupyter-widgets/base",
      "_view_module_version": "1.2.0",
      "_view_name": "LayoutView",
      "align_content": null,
      "align_items": null,
      "align_self": null,
      "border": null,
      "bottom": null,
      "display": null,
      "flex": null,
      "flex_flow": null,
      "grid_area": null,
      "grid_auto_columns": null,
      "grid_auto_flow": null,
      "grid_auto_rows": null,
      "grid_column": null,
      "grid_gap": null,
      "grid_row": null,
      "grid_template_areas": null,
      "grid_template_columns": null,
      "grid_template_rows": null,
      "height": null,
      "justify_content": null,
      "justify_items": null,
      "left": null,
      "margin": null,
      "max_height": null,
      "max_width": null,
      "min_height": null,
      "min_width": null,
      "object_fit": null,
      "object_position": null,
      "order": null,
      "overflow": null,
      "overflow_x": null,
      "overflow_y": null,
      "padding": null,
      "right": null,
      "top": null,
      "visibility": null,
      "width": null
     }
    },
    "532d04fe48164a00a8db36177c9ea152": {
     "model_module": "@jupyter-widgets/base",
     "model_module_version": "1.2.0",
     "model_name": "LayoutModel",
     "state": {
      "_model_module": "@jupyter-widgets/base",
      "_model_module_version": "1.2.0",
      "_model_name": "LayoutModel",
      "_view_count": null,
      "_view_module": "@jupyter-widgets/base",
      "_view_module_version": "1.2.0",
      "_view_name": "LayoutView",
      "align_content": null,
      "align_items": null,
      "align_self": null,
      "border": null,
      "bottom": null,
      "display": null,
      "flex": null,
      "flex_flow": null,
      "grid_area": null,
      "grid_auto_columns": null,
      "grid_auto_flow": null,
      "grid_auto_rows": null,
      "grid_column": null,
      "grid_gap": null,
      "grid_row": null,
      "grid_template_areas": null,
      "grid_template_columns": null,
      "grid_template_rows": null,
      "height": null,
      "justify_content": null,
      "justify_items": null,
      "left": null,
      "margin": null,
      "max_height": null,
      "max_width": null,
      "min_height": null,
      "min_width": null,
      "object_fit": null,
      "object_position": null,
      "order": null,
      "overflow": null,
      "overflow_x": null,
      "overflow_y": null,
      "padding": null,
      "right": null,
      "top": null,
      "visibility": null,
      "width": null
     }
    },
    "55a34be2f9d14d00926062efafa2d7b0": {
     "model_module": "@jupyter-widgets/controls",
     "model_module_version": "1.5.0",
     "model_name": "HTMLModel",
     "state": {
      "_dom_classes": [],
      "_model_module": "@jupyter-widgets/controls",
      "_model_module_version": "1.5.0",
      "_model_name": "HTMLModel",
      "_view_count": null,
      "_view_module": "@jupyter-widgets/controls",
      "_view_module_version": "1.5.0",
      "_view_name": "HTMLView",
      "description": "",
      "description_tooltip": null,
      "layout": "IPY_MODEL_ffbc13e493114403b6f88a67db932b15",
      "placeholder": "​",
      "style": "IPY_MODEL_a5c93a83de084232a6964a113aecb930",
      "value": "Generating train split: "
     }
    },
    "576e75f0473145168b5d166acb903643": {
     "model_module": "@jupyter-widgets/controls",
     "model_module_version": "1.5.0",
     "model_name": "HTMLModel",
     "state": {
      "_dom_classes": [],
      "_model_module": "@jupyter-widgets/controls",
      "_model_module_version": "1.5.0",
      "_model_name": "HTMLModel",
      "_view_count": null,
      "_view_module": "@jupyter-widgets/controls",
      "_view_module_version": "1.5.0",
      "_view_name": "HTMLView",
      "description": "",
      "description_tooltip": null,
      "layout": "IPY_MODEL_4b524028a9564a61a935d10083922c4c",
      "placeholder": "​",
      "style": "IPY_MODEL_1dc435da8c744a6282e8f7cfce8b4f2f",
      "value": " 1128024/0 [00:02&lt;00:00, 387057.12 examples/s]"
     }
    },
    "61bc579763f6454cb6a36dc80b9068a0": {
     "model_module": "@jupyter-widgets/controls",
     "model_module_version": "1.5.0",
     "model_name": "FloatProgressModel",
     "state": {
      "_dom_classes": [],
      "_model_module": "@jupyter-widgets/controls",
      "_model_module_version": "1.5.0",
      "_model_name": "FloatProgressModel",
      "_view_count": null,
      "_view_module": "@jupyter-widgets/controls",
      "_view_module_version": "1.5.0",
      "_view_name": "ProgressView",
      "bar_style": "success",
      "description": "",
      "description_tooltip": null,
      "layout": "IPY_MODEL_b0349099323b4b6280e3f253ab2aa033",
      "max": 1128024,
      "min": 0,
      "orientation": "horizontal",
      "style": "IPY_MODEL_e486dae88741401a82d16c7aa84b57cf",
      "value": 1128024
     }
    },
    "654f5bb5e6e44858af000d593b701980": {
     "model_module": "@jupyter-widgets/base",
     "model_module_version": "1.2.0",
     "model_name": "LayoutModel",
     "state": {
      "_model_module": "@jupyter-widgets/base",
      "_model_module_version": "1.2.0",
      "_model_name": "LayoutModel",
      "_view_count": null,
      "_view_module": "@jupyter-widgets/base",
      "_view_module_version": "1.2.0",
      "_view_name": "LayoutView",
      "align_content": null,
      "align_items": null,
      "align_self": null,
      "border": null,
      "bottom": null,
      "display": null,
      "flex": null,
      "flex_flow": null,
      "grid_area": null,
      "grid_auto_columns": null,
      "grid_auto_flow": null,
      "grid_auto_rows": null,
      "grid_column": null,
      "grid_gap": null,
      "grid_row": null,
      "grid_template_areas": null,
      "grid_template_columns": null,
      "grid_template_rows": null,
      "height": null,
      "justify_content": null,
      "justify_items": null,
      "left": null,
      "margin": null,
      "max_height": null,
      "max_width": null,
      "min_height": null,
      "min_width": null,
      "object_fit": null,
      "object_position": null,
      "order": null,
      "overflow": null,
      "overflow_x": null,
      "overflow_y": null,
      "padding": null,
      "right": null,
      "top": null,
      "visibility": null,
      "width": null
     }
    },
    "71f62c2eb9ad40e289c5bbcc0c95490d": {
     "model_module": "@jupyter-widgets/base",
     "model_module_version": "1.2.0",
     "model_name": "LayoutModel",
     "state": {
      "_model_module": "@jupyter-widgets/base",
      "_model_module_version": "1.2.0",
      "_model_name": "LayoutModel",
      "_view_count": null,
      "_view_module": "@jupyter-widgets/base",
      "_view_module_version": "1.2.0",
      "_view_name": "LayoutView",
      "align_content": null,
      "align_items": null,
      "align_self": null,
      "border": null,
      "bottom": null,
      "display": null,
      "flex": null,
      "flex_flow": null,
      "grid_area": null,
      "grid_auto_columns": null,
      "grid_auto_flow": null,
      "grid_auto_rows": null,
      "grid_column": null,
      "grid_gap": null,
      "grid_row": null,
      "grid_template_areas": null,
      "grid_template_columns": null,
      "grid_template_rows": null,
      "height": null,
      "justify_content": null,
      "justify_items": null,
      "left": null,
      "margin": null,
      "max_height": null,
      "max_width": null,
      "min_height": null,
      "min_width": null,
      "object_fit": null,
      "object_position": null,
      "order": null,
      "overflow": null,
      "overflow_x": null,
      "overflow_y": null,
      "padding": null,
      "right": null,
      "top": null,
      "visibility": null,
      "width": null
     }
    },
    "7a87b54b7ed549bdb26958bf7f803af2": {
     "model_module": "@jupyter-widgets/base",
     "model_module_version": "1.2.0",
     "model_name": "LayoutModel",
     "state": {
      "_model_module": "@jupyter-widgets/base",
      "_model_module_version": "1.2.0",
      "_model_name": "LayoutModel",
      "_view_count": null,
      "_view_module": "@jupyter-widgets/base",
      "_view_module_version": "1.2.0",
      "_view_name": "LayoutView",
      "align_content": null,
      "align_items": null,
      "align_self": null,
      "border": null,
      "bottom": null,
      "display": null,
      "flex": null,
      "flex_flow": null,
      "grid_area": null,
      "grid_auto_columns": null,
      "grid_auto_flow": null,
      "grid_auto_rows": null,
      "grid_column": null,
      "grid_gap": null,
      "grid_row": null,
      "grid_template_areas": null,
      "grid_template_columns": null,
      "grid_template_rows": null,
      "height": null,
      "justify_content": null,
      "justify_items": null,
      "left": null,
      "margin": null,
      "max_height": null,
      "max_width": null,
      "min_height": null,
      "min_width": null,
      "object_fit": null,
      "object_position": null,
      "order": null,
      "overflow": null,
      "overflow_x": null,
      "overflow_y": null,
      "padding": null,
      "right": null,
      "top": null,
      "visibility": null,
      "width": null
     }
    },
    "8b32e1b93368443f981ec8187016c7f2": {
     "model_module": "@jupyter-widgets/base",
     "model_module_version": "1.2.0",
     "model_name": "LayoutModel",
     "state": {
      "_model_module": "@jupyter-widgets/base",
      "_model_module_version": "1.2.0",
      "_model_name": "LayoutModel",
      "_view_count": null,
      "_view_module": "@jupyter-widgets/base",
      "_view_module_version": "1.2.0",
      "_view_name": "LayoutView",
      "align_content": null,
      "align_items": null,
      "align_self": null,
      "border": null,
      "bottom": null,
      "display": null,
      "flex": null,
      "flex_flow": null,
      "grid_area": null,
      "grid_auto_columns": null,
      "grid_auto_flow": null,
      "grid_auto_rows": null,
      "grid_column": null,
      "grid_gap": null,
      "grid_row": null,
      "grid_template_areas": null,
      "grid_template_columns": null,
      "grid_template_rows": null,
      "height": null,
      "justify_content": null,
      "justify_items": null,
      "left": null,
      "margin": null,
      "max_height": null,
      "max_width": null,
      "min_height": null,
      "min_width": null,
      "object_fit": null,
      "object_position": null,
      "order": null,
      "overflow": null,
      "overflow_x": null,
      "overflow_y": null,
      "padding": null,
      "right": null,
      "top": null,
      "visibility": null,
      "width": null
     }
    },
    "95b6d03796e84153a5e2a6904d640659": {
     "model_module": "@jupyter-widgets/controls",
     "model_module_version": "1.5.0",
     "model_name": "DescriptionStyleModel",
     "state": {
      "_model_module": "@jupyter-widgets/controls",
      "_model_module_version": "1.5.0",
      "_model_name": "DescriptionStyleModel",
      "_view_count": null,
      "_view_module": "@jupyter-widgets/base",
      "_view_module_version": "1.2.0",
      "_view_name": "StyleView",
      "description_width": ""
     }
    },
    "96e4d29108ca47ea9beb7f7b1a78d79a": {
     "model_module": "@jupyter-widgets/controls",
     "model_module_version": "1.5.0",
     "model_name": "HTMLModel",
     "state": {
      "_dom_classes": [],
      "_model_module": "@jupyter-widgets/controls",
      "_model_module_version": "1.5.0",
      "_model_name": "HTMLModel",
      "_view_count": null,
      "_view_module": "@jupyter-widgets/controls",
      "_view_module_version": "1.5.0",
      "_view_name": "HTMLView",
      "description": "",
      "description_tooltip": null,
      "layout": "IPY_MODEL_05f070c4b1294821b0874bf4ddc9d7d7",
      "placeholder": "​",
      "style": "IPY_MODEL_95b6d03796e84153a5e2a6904d640659",
      "value": " 2/107029 [00:17&lt;228:26:51,  7.68s/it]"
     }
    },
    "a1b0cd399a2d44e6a5f3431ac861d2d2": {
     "model_module": "@jupyter-widgets/controls",
     "model_module_version": "1.5.0",
     "model_name": "HTMLModel",
     "state": {
      "_dom_classes": [],
      "_model_module": "@jupyter-widgets/controls",
      "_model_module_version": "1.5.0",
      "_model_name": "HTMLModel",
      "_view_count": null,
      "_view_module": "@jupyter-widgets/controls",
      "_view_module_version": "1.5.0",
      "_view_name": "HTMLView",
      "description": "",
      "description_tooltip": null,
      "layout": "IPY_MODEL_065511e68dfb4053b4f0a70ef7a91ee3",
      "placeholder": "​",
      "style": "IPY_MODEL_b2826da9f9314c1cb966b54a7b6120fe",
      "value": "compression_ratio=0.85, critic_loss=5318.31, actor_loss=0.26, decompressor_loss=1.43:   0%"
     }
    },
    "a5c93a83de084232a6964a113aecb930": {
     "model_module": "@jupyter-widgets/controls",
     "model_module_version": "1.5.0",
     "model_name": "DescriptionStyleModel",
     "state": {
      "_model_module": "@jupyter-widgets/controls",
      "_model_module_version": "1.5.0",
      "_model_name": "DescriptionStyleModel",
      "_view_count": null,
      "_view_module": "@jupyter-widgets/base",
      "_view_module_version": "1.2.0",
      "_view_name": "StyleView",
      "description_width": ""
     }
    },
    "b0349099323b4b6280e3f253ab2aa033": {
     "model_module": "@jupyter-widgets/base",
     "model_module_version": "1.2.0",
     "model_name": "LayoutModel",
     "state": {
      "_model_module": "@jupyter-widgets/base",
      "_model_module_version": "1.2.0",
      "_model_name": "LayoutModel",
      "_view_count": null,
      "_view_module": "@jupyter-widgets/base",
      "_view_module_version": "1.2.0",
      "_view_name": "LayoutView",
      "align_content": null,
      "align_items": null,
      "align_self": null,
      "border": null,
      "bottom": null,
      "display": null,
      "flex": null,
      "flex_flow": null,
      "grid_area": null,
      "grid_auto_columns": null,
      "grid_auto_flow": null,
      "grid_auto_rows": null,
      "grid_column": null,
      "grid_gap": null,
      "grid_row": null,
      "grid_template_areas": null,
      "grid_template_columns": null,
      "grid_template_rows": null,
      "height": null,
      "justify_content": null,
      "justify_items": null,
      "left": null,
      "margin": null,
      "max_height": null,
      "max_width": null,
      "min_height": null,
      "min_width": null,
      "object_fit": null,
      "object_position": null,
      "order": null,
      "overflow": null,
      "overflow_x": null,
      "overflow_y": null,
      "padding": null,
      "right": null,
      "top": null,
      "visibility": null,
      "width": null
     }
    },
    "b2826da9f9314c1cb966b54a7b6120fe": {
     "model_module": "@jupyter-widgets/controls",
     "model_module_version": "1.5.0",
     "model_name": "DescriptionStyleModel",
     "state": {
      "_model_module": "@jupyter-widgets/controls",
      "_model_module_version": "1.5.0",
      "_model_name": "DescriptionStyleModel",
      "_view_count": null,
      "_view_module": "@jupyter-widgets/base",
      "_view_module_version": "1.2.0",
      "_view_name": "StyleView",
      "description_width": ""
     }
    },
    "b9be4ff6d92f4112aa8078e96b3838db": {
     "model_module": "@jupyter-widgets/controls",
     "model_module_version": "1.5.0",
     "model_name": "FloatProgressModel",
     "state": {
      "_dom_classes": [],
      "_model_module": "@jupyter-widgets/controls",
      "_model_module_version": "1.5.0",
      "_model_name": "FloatProgressModel",
      "_view_count": null,
      "_view_module": "@jupyter-widgets/controls",
      "_view_module_version": "1.5.0",
      "_view_name": "ProgressView",
      "bar_style": "danger",
      "description": "",
      "description_tooltip": null,
      "layout": "IPY_MODEL_7a87b54b7ed549bdb26958bf7f803af2",
      "max": 107029,
      "min": 0,
      "orientation": "horizontal",
      "style": "IPY_MODEL_dad9de6f3118448eb665a9fcb544ff68",
      "value": 2
     }
    },
    "bc1b308fdc1b4e80a6d04a70e75de34e": {
     "model_module": "@jupyter-widgets/controls",
     "model_module_version": "1.5.0",
     "model_name": "DescriptionStyleModel",
     "state": {
      "_model_module": "@jupyter-widgets/controls",
      "_model_module_version": "1.5.0",
      "_model_name": "DescriptionStyleModel",
      "_view_count": null,
      "_view_module": "@jupyter-widgets/base",
      "_view_module_version": "1.2.0",
      "_view_name": "StyleView",
      "description_width": ""
     }
    },
    "dad9de6f3118448eb665a9fcb544ff68": {
     "model_module": "@jupyter-widgets/controls",
     "model_module_version": "1.5.0",
     "model_name": "ProgressStyleModel",
     "state": {
      "_model_module": "@jupyter-widgets/controls",
      "_model_module_version": "1.5.0",
      "_model_name": "ProgressStyleModel",
      "_view_count": null,
      "_view_module": "@jupyter-widgets/base",
      "_view_module_version": "1.2.0",
      "_view_name": "StyleView",
      "bar_color": null,
      "description_width": ""
     }
    },
    "e486dae88741401a82d16c7aa84b57cf": {
     "model_module": "@jupyter-widgets/controls",
     "model_module_version": "1.5.0",
     "model_name": "ProgressStyleModel",
     "state": {
      "_model_module": "@jupyter-widgets/controls",
      "_model_module_version": "1.5.0",
      "_model_name": "ProgressStyleModel",
      "_view_count": null,
      "_view_module": "@jupyter-widgets/base",
      "_view_module_version": "1.2.0",
      "_view_name": "StyleView",
      "bar_color": null,
      "description_width": ""
     }
    },
    "e6563f7242f3412a940b8761621eeac7": {
     "model_module": "@jupyter-widgets/base",
     "model_module_version": "1.2.0",
     "model_name": "LayoutModel",
     "state": {
      "_model_module": "@jupyter-widgets/base",
      "_model_module_version": "1.2.0",
      "_model_name": "LayoutModel",
      "_view_count": null,
      "_view_module": "@jupyter-widgets/base",
      "_view_module_version": "1.2.0",
      "_view_name": "LayoutView",
      "align_content": null,
      "align_items": null,
      "align_self": null,
      "border": null,
      "bottom": null,
      "display": null,
      "flex": null,
      "flex_flow": null,
      "grid_area": null,
      "grid_auto_columns": null,
      "grid_auto_flow": null,
      "grid_auto_rows": null,
      "grid_column": null,
      "grid_gap": null,
      "grid_row": null,
      "grid_template_areas": null,
      "grid_template_columns": null,
      "grid_template_rows": null,
      "height": null,
      "justify_content": null,
      "justify_items": null,
      "left": null,
      "margin": null,
      "max_height": null,
      "max_width": null,
      "min_height": null,
      "min_width": null,
      "object_fit": null,
      "object_position": null,
      "order": null,
      "overflow": null,
      "overflow_x": null,
      "overflow_y": null,
      "padding": null,
      "right": null,
      "top": null,
      "visibility": null,
      "width": null
     }
    },
    "f056e5f5aec54fe8b3cfc121e1c24430": {
     "model_module": "@jupyter-widgets/controls",
     "model_module_version": "1.5.0",
     "model_name": "HTMLModel",
     "state": {
      "_dom_classes": [],
      "_model_module": "@jupyter-widgets/controls",
      "_model_module_version": "1.5.0",
      "_model_name": "HTMLModel",
      "_view_count": null,
      "_view_module": "@jupyter-widgets/controls",
      "_view_module_version": "1.5.0",
      "_view_name": "HTMLView",
      "description": "",
      "description_tooltip": null,
      "layout": "IPY_MODEL_654f5bb5e6e44858af000d593b701980",
      "placeholder": "​",
      "style": "IPY_MODEL_22d010b51fd34ddf82627507aed81676",
      "value": " 1128024/1128024 [02:45&lt;00:00, 6447.57 examples/s]"
     }
    },
    "ffbc13e493114403b6f88a67db932b15": {
     "model_module": "@jupyter-widgets/base",
     "model_module_version": "1.2.0",
     "model_name": "LayoutModel",
     "state": {
      "_model_module": "@jupyter-widgets/base",
      "_model_module_version": "1.2.0",
      "_model_name": "LayoutModel",
      "_view_count": null,
      "_view_module": "@jupyter-widgets/base",
      "_view_module_version": "1.2.0",
      "_view_name": "LayoutView",
      "align_content": null,
      "align_items": null,
      "align_self": null,
      "border": null,
      "bottom": null,
      "display": null,
      "flex": null,
      "flex_flow": null,
      "grid_area": null,
      "grid_auto_columns": null,
      "grid_auto_flow": null,
      "grid_auto_rows": null,
      "grid_column": null,
      "grid_gap": null,
      "grid_row": null,
      "grid_template_areas": null,
      "grid_template_columns": null,
      "grid_template_rows": null,
      "height": null,
      "justify_content": null,
      "justify_items": null,
      "left": null,
      "margin": null,
      "max_height": null,
      "max_width": null,
      "min_height": null,
      "min_width": null,
      "object_fit": null,
      "object_position": null,
      "order": null,
      "overflow": null,
      "overflow_x": null,
      "overflow_y": null,
      "padding": null,
      "right": null,
      "top": null,
      "visibility": null,
      "width": null
     }
    }
   }
  }
 },
 "nbformat": 4,
 "nbformat_minor": 4
}
