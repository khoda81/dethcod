{
  "cells": [
    {
      "cell_type": "code",
      "execution_count": 3,
      "metadata": {
        "colab": {
          "base_uri": "https://localhost:8080/"
        },
        "id": "vINNjRbwnFOa",
        "outputId": "afae0dab-b9f9-4403-dd6c-95467f149f4b"
      },
      "outputs": [
        {
          "name": "stdout",
          "output_type": "stream",
          "text": [
            "Requirement already satisfied: transformers in c:\\users\\20mah\\anaconda3\\envs\\data-science\\lib\\site-packages (4.39.3)\n",
            "Requirement already satisfied: wandb in c:\\users\\20mah\\anaconda3\\envs\\data-science\\lib\\site-packages (0.15.10)\n",
            "Requirement already satisfied: requests_cache in c:\\users\\20mah\\anaconda3\\envs\\data-science\\lib\\site-packages (1.2.0)\n",
            "Requirement already satisfied: datasets in c:\\users\\20mah\\anaconda3\\envs\\data-science\\lib\\site-packages (2.0.0)\n",
            "Requirement already satisfied: tqdm in c:\\users\\20mah\\anaconda3\\envs\\data-science\\lib\\site-packages (4.62.3)\n",
            "Collecting python-dotenv\n",
            "  Obtaining dependency information for python-dotenv from https://files.pythonhosted.org/packages/6a/3e/b68c118422ec867fa7ab88444e1274aa40681c606d59ac27de5a5588f082/python_dotenv-1.0.1-py3-none-any.whl.metadata\n",
            "  Downloading python_dotenv-1.0.1-py3-none-any.whl.metadata (23 kB)\n",
            "Requirement already satisfied: filelock in c:\\users\\20mah\\anaconda3\\envs\\data-science\\lib\\site-packages (from transformers) (3.12.3)\n",
            "Requirement already satisfied: huggingface-hub<1.0,>=0.19.3 in c:\\users\\20mah\\anaconda3\\envs\\data-science\\lib\\site-packages (from transformers) (0.19.4)\n",
            "Requirement already satisfied: numpy>=1.17 in c:\\users\\20mah\\anaconda3\\envs\\data-science\\lib\\site-packages (from transformers) (1.24.0)\n",
            "Requirement already satisfied: packaging>=20.0 in c:\\users\\20mah\\anaconda3\\envs\\data-science\\lib\\site-packages (from transformers) (23.1)\n",
            "Requirement already satisfied: pyyaml>=5.1 in c:\\users\\20mah\\anaconda3\\envs\\data-science\\lib\\site-packages (from transformers) (6.0)\n",
            "Requirement already satisfied: regex!=2019.12.17 in c:\\users\\20mah\\anaconda3\\envs\\data-science\\lib\\site-packages (from transformers) (2021.11.2)\n",
            "Requirement already satisfied: requests in c:\\users\\20mah\\anaconda3\\envs\\data-science\\lib\\site-packages (from transformers) (2.31.0)\n",
            "Requirement already satisfied: tokenizers<0.19,>=0.14 in c:\\users\\20mah\\anaconda3\\envs\\data-science\\lib\\site-packages (from transformers) (0.15.0)\n",
            "Requirement already satisfied: safetensors>=0.4.1 in c:\\users\\20mah\\anaconda3\\envs\\data-science\\lib\\site-packages (from transformers) (0.4.1)\n",
            "Requirement already satisfied: Click!=8.0.0,>=7.1 in c:\\users\\20mah\\anaconda3\\envs\\data-science\\lib\\site-packages (from wandb) (8.0.4)\n",
            "Requirement already satisfied: GitPython!=3.1.29,>=1.0.0 in c:\\users\\20mah\\anaconda3\\envs\\data-science\\lib\\site-packages (from wandb) (3.1.30)\n",
            "Requirement already satisfied: psutil>=5.0.0 in c:\\users\\20mah\\anaconda3\\envs\\data-science\\lib\\site-packages (from wandb) (5.8.0)\n",
            "Requirement already satisfied: sentry-sdk>=1.0.0 in c:\\users\\20mah\\anaconda3\\envs\\data-science\\lib\\site-packages (from wandb) (1.5.10)\n",
            "Requirement already satisfied: docker-pycreds>=0.4.0 in c:\\users\\20mah\\anaconda3\\envs\\data-science\\lib\\site-packages (from wandb) (0.4.0)\n",
            "Requirement already satisfied: pathtools in c:\\users\\20mah\\anaconda3\\envs\\data-science\\lib\\site-packages (from wandb) (0.1.2)\n",
            "Requirement already satisfied: setproctitle in c:\\users\\20mah\\anaconda3\\envs\\data-science\\lib\\site-packages (from wandb) (1.2.3)\n",
            "Requirement already satisfied: setuptools in c:\\users\\20mah\\anaconda3\\envs\\data-science\\lib\\site-packages (from wandb) (65.6.3)\n",
            "Requirement already satisfied: appdirs>=1.4.3 in c:\\users\\20mah\\anaconda3\\envs\\data-science\\lib\\site-packages (from wandb) (1.4.4)\n",
            "Requirement already satisfied: typing-extensions in c:\\users\\20mah\\anaconda3\\envs\\data-science\\lib\\site-packages (from wandb) (4.7.1)\n",
            "Requirement already satisfied: protobuf!=4.21.0,<5,>=3.19.0 in c:\\users\\20mah\\appdata\\roaming\\python\\python39\\site-packages (from wandb) (4.24.1)\n",
            "Requirement already satisfied: attrs>=21.2 in c:\\users\\20mah\\anaconda3\\envs\\data-science\\lib\\site-packages (from requests_cache) (23.1.0)\n",
            "Requirement already satisfied: cattrs>=22.2 in c:\\users\\20mah\\anaconda3\\envs\\data-science\\lib\\site-packages (from requests_cache) (23.2.3)\n",
            "Requirement already satisfied: platformdirs>=2.5 in c:\\users\\20mah\\anaconda3\\envs\\data-science\\lib\\site-packages (from requests_cache) (3.10.0)\n",
            "Requirement already satisfied: url-normalize>=1.4 in c:\\users\\20mah\\anaconda3\\envs\\data-science\\lib\\site-packages (from requests_cache) (1.4.3)\n",
            "Requirement already satisfied: urllib3>=1.25.5 in c:\\users\\20mah\\anaconda3\\envs\\data-science\\lib\\site-packages (from requests_cache) (1.26.13)\n",
            "Requirement already satisfied: pyarrow>=5.0.0 in c:\\users\\20mah\\anaconda3\\envs\\data-science\\lib\\site-packages (from datasets) (11.0.0)\n",
            "Requirement already satisfied: dill in c:\\users\\20mah\\anaconda3\\envs\\data-science\\lib\\site-packages (from datasets) (0.3.6)\n",
            "Requirement already satisfied: pandas in c:\\users\\20mah\\anaconda3\\envs\\data-science\\lib\\site-packages (from datasets) (1.3.5)\n",
            "Requirement already satisfied: xxhash in c:\\users\\20mah\\anaconda3\\envs\\data-science\\lib\\site-packages (from datasets) (2.0.2)\n",
            "Requirement already satisfied: multiprocess in c:\\users\\20mah\\anaconda3\\envs\\data-science\\lib\\site-packages (from datasets) (0.70.12.2)\n",
            "Requirement already satisfied: fsspec[http]>=2021.05.0 in c:\\users\\20mah\\anaconda3\\envs\\data-science\\lib\\site-packages (from datasets) (2023.10.0)\n",
            "Requirement already satisfied: aiohttp in c:\\users\\20mah\\anaconda3\\envs\\data-science\\lib\\site-packages (from datasets) (3.8.1)\n",
            "Requirement already satisfied: responses<0.19 in c:\\users\\20mah\\anaconda3\\envs\\data-science\\lib\\site-packages (from datasets) (0.13.3)\n",
            "Requirement already satisfied: colorama in c:\\users\\20mah\\anaconda3\\envs\\data-science\\lib\\site-packages (from tqdm) (0.4.6)\n",
            "Requirement already satisfied: exceptiongroup>=1.1.1 in c:\\users\\20mah\\anaconda3\\envs\\data-science\\lib\\site-packages (from cattrs>=22.2->requests_cache) (1.1.3)\n",
            "Requirement already satisfied: six>=1.4.0 in c:\\users\\20mah\\anaconda3\\envs\\data-science\\lib\\site-packages (from docker-pycreds>=0.4.0->wandb) (1.16.0)\n",
            "Requirement already satisfied: charset-normalizer<3.0,>=2.0 in c:\\users\\20mah\\anaconda3\\envs\\data-science\\lib\\site-packages (from aiohttp->datasets) (2.0.4)\n",
            "Requirement already satisfied: multidict<7.0,>=4.5 in c:\\users\\20mah\\anaconda3\\envs\\data-science\\lib\\site-packages (from aiohttp->datasets) (6.0.2)\n",
            "Requirement already satisfied: async-timeout<5.0,>=4.0.0a3 in c:\\users\\20mah\\anaconda3\\envs\\data-science\\lib\\site-packages (from aiohttp->datasets) (4.0.2)\n",
            "Requirement already satisfied: yarl<2.0,>=1.0 in c:\\users\\20mah\\anaconda3\\envs\\data-science\\lib\\site-packages (from aiohttp->datasets) (1.7.2)\n",
            "Requirement already satisfied: frozenlist>=1.1.1 in c:\\users\\20mah\\anaconda3\\envs\\data-science\\lib\\site-packages (from aiohttp->datasets) (1.3.0)\n",
            "Requirement already satisfied: aiosignal>=1.1.2 in c:\\users\\20mah\\anaconda3\\envs\\data-science\\lib\\site-packages (from aiohttp->datasets) (1.2.0)\n",
            "Requirement already satisfied: gitdb<5,>=4.0.1 in c:\\users\\20mah\\anaconda3\\envs\\data-science\\lib\\site-packages (from GitPython!=3.1.29,>=1.0.0->wandb) (4.0.10)\n",
            "Requirement already satisfied: idna<4,>=2.5 in c:\\users\\20mah\\anaconda3\\envs\\data-science\\lib\\site-packages (from requests->transformers) (3.4)\n",
            "Requirement already satisfied: certifi>=2017.4.17 in c:\\users\\20mah\\anaconda3\\envs\\data-science\\lib\\site-packages (from requests->transformers) (2023.7.22)\n",
            "Requirement already satisfied: python-dateutil>=2.7.3 in c:\\users\\20mah\\anaconda3\\envs\\data-science\\lib\\site-packages (from pandas->datasets) (2.8.2)\n",
            "Requirement already satisfied: pytz>=2017.3 in c:\\users\\20mah\\anaconda3\\envs\\data-science\\lib\\site-packages (from pandas->datasets) (2023.3.post1)\n",
            "Requirement already satisfied: smmap<6,>=3.0.1 in c:\\users\\20mah\\anaconda3\\envs\\data-science\\lib\\site-packages (from gitdb<5,>=4.0.1->GitPython!=3.1.29,>=1.0.0->wandb) (5.0.0)\n",
            "Downloading python_dotenv-1.0.1-py3-none-any.whl (19 kB)\n",
            "Installing collected packages: python-dotenv\n",
            "Successfully installed python-dotenv-1.0.1\n",
            "Note: you may need to restart the kernel to use updated packages.\n"
          ]
        }
      ],
      "source": [
        "%pip install transformers wandb requests_cache datasets tqdm python-dotenv"
      ]
    },
    {
      "cell_type": "code",
      "execution_count": 5,
      "metadata": {
        "colab": {
          "base_uri": "https://localhost:8080/"
        },
        "id": "e-neGcFgTHdu",
        "outputId": "e2153621-acd3-4cea-fdf5-d37b93964aeb"
      },
      "outputs": [
        {
          "name": "stderr",
          "output_type": "stream",
          "text": [
            "Failed to detect the name of this notebook, you can set it manually with the WANDB_NOTEBOOK_NAME environment variable to enable code saving.\n",
            "\u001b[34m\u001b[1mwandb\u001b[0m: Currently logged in as: \u001b[33maxiom\u001b[0m (\u001b[33mchihuahuas\u001b[0m). Use \u001b[1m`wandb login --relogin`\u001b[0m to force relogin\n",
            "\u001b[34m\u001b[1mwandb\u001b[0m: \u001b[33mWARNING\u001b[0m If you're specifying your api key in code, ensure this code is not shared publicly.\n",
            "\u001b[34m\u001b[1mwandb\u001b[0m: \u001b[33mWARNING\u001b[0m Consider setting the WANDB_API_KEY environment variable, or running `wandb login` from the command line.\n",
            "\u001b[34m\u001b[1mwandb\u001b[0m: Appending key for api.wandb.ai to your netrc file: C:\\Users\\20mah/.netrc\n"
          ]
        }
      ],
      "source": [
        "import os\n",
        "import wandb\n",
        "\n",
        "\n",
        "# huggingface_hub.login(token=userdata.get('huggigface_token'))\n",
        "\n",
        "try:\n",
        "    from dotenv import load_dotenv\n",
        "    # Load environment variables from .env file\n",
        "    load_dotenv()\n",
        "\n",
        "except ImportError as e:\n",
        "    print(f\"Error importing dotenv: {e}\")\n",
        "\n",
        "\n",
        "# Check if running in Colab\n",
        "try:\n",
        "    from google.colab import userdata\n",
        "    # If running in Colab, use userdata.get to retrieve the token\n",
        "    wandb.login(key=userdata.get('wandb_token'))\n",
        "\n",
        "except ImportError:\n",
        "    # If not in Colab, load the token from the environment variable\n",
        "    wandb_token = os.getenv('WANDB_TOKEN')\n",
        "    if wandb_token:\n",
        "        wandb.login(key=wandb_token)\n",
        "    else:\n",
        "        print(\"W&B token not found in environment variable. Please set WANDB_TOKEN in your environment.\")\n"
      ]
    },
    {
      "cell_type": "markdown",
      "metadata": {
        "id": "3yDIICSsnFOb"
      },
      "source": [
        "## Download Data"
      ]
    },
    {
      "cell_type": "code",
      "execution_count": 3,
      "metadata": {
        "colab": {
          "base_uri": "https://localhost:8080/"
        },
        "id": "JQb9wuBJnFOc",
        "outputId": "7ed5a799-d76b-49cf-efd5-83e088cea366"
      },
      "outputs": [
        {
          "name": "stderr",
          "output_type": "stream",
          "text": [
            "Downloading: 100%|██████████| 36.4M/36.4M [00:00<00:00, 256MB/s]\n",
            "File downloaded and decompressed successfully.\n"
          ]
        }
      ],
      "source": [
        "import io\n",
        "import os\n",
        "import sys\n",
        "import zipfile\n",
        "\n",
        "import requests\n",
        "import requests_cache\n",
        "from tqdm import tqdm\n",
        "\n",
        "\n",
        "zip_link = \"http://www.mattmahoney.net/dc/enwik8.zip\"\n",
        "data_folder = \"dataset\"\n",
        "cache_file = \"download_cache\"\n",
        "\n",
        "# Ensure the data folder exists\n",
        "if not os.path.exists(data_folder):\n",
        "    os.makedirs(data_folder)\n",
        "\n",
        "# Initialize requests_cache\n",
        "requests_cache.install_cache(os.path.join(data_folder, cache_file))\n",
        "\n",
        "# Download the ZIP file with progress bar\n",
        "response = requests.get(zip_link, stream=True)\n",
        "response.raise_for_status()\n",
        "\n",
        "# Get the total file size for the progress bar\n",
        "total_size = int(response.headers.get(\"content-length\", 0))\n",
        "\n",
        "# Open the ZIP file from the content\n",
        "with open(os.path.join(data_folder, \"enwik8.zip\"), \"wb\") as file:\n",
        "    with tqdm(\n",
        "        total=total_size, unit=\"B\", unit_scale=True, desc=\"Downloading\"\n",
        "    ) as pbar:\n",
        "        for data in response.iter_content(chunk_size=1024):\n",
        "            file.write(data)\n",
        "            pbar.update(len(data))\n",
        "\n",
        "# Open the cached file\n",
        "with open(os.path.join(data_folder, \"enwik8.zip\"), \"rb\") as file:\n",
        "    # Open the ZIP file from the content\n",
        "    with zipfile.ZipFile(io.BytesIO(file.read())) as zip_file:\n",
        "        # Extract all contents to the data folder\n",
        "        zip_file.extractall(data_folder)\n",
        "\n",
        "print(\"File downloaded and decompressed successfully.\", file=sys.stderr)\n"
      ]
    },
    {
      "cell_type": "markdown",
      "metadata": {
        "id": "wrDpshHUnFOd"
      },
      "source": [
        "## Model"
      ]
    },
    {
      "cell_type": "code",
      "execution_count": 3,
      "metadata": {
        "id": "dLg4aoQ4RSzJ"
      },
      "outputs": [],
      "source": [
        "import torch\n",
        "device = torch.device(\"cuda\" if torch.cuda.is_available() else \"cpu\")"
      ]
    },
    {
      "cell_type": "code",
      "execution_count": 29,
      "metadata": {
        "id": "IKm2VnUKnFOe"
      },
      "outputs": [],
      "source": [
        "from transformers import T5ForConditionalGeneration, AutoTokenizer\n",
        "\n",
        "MODEL_ID = \"google-t5/t5-small\"\n",
        "COMP_EMBED_DIM = 32\n",
        "NUM_TOKENS = 16\n",
        "\n",
        "model = T5ForConditionalGeneration.from_pretrained(MODEL_ID).to(device)\n",
        "tokenizer = AutoTokenizer.from_pretrained(MODEL_ID)"
      ]
    },
    {
      "cell_type": "code",
      "execution_count": 30,
      "metadata": {
        "id": "_gq-mmhQxLFN"
      },
      "outputs": [],
      "source": [
        "import torch.nn as nn\n",
        "\n",
        "pooling_layer = nn.Linear(model.encoder.config.d_model, COMP_EMBED_DIM * NUM_TOKENS).to(device)\n",
        "unpooling_layer = nn.Linear(COMP_EMBED_DIM, model.encoder.config.d_model).to(device)"
      ]
    },
    {
      "cell_type": "markdown",
      "metadata": {
        "id": "NMCRynUDpAz6"
      },
      "source": [
        "## Data"
      ]
    },
    {
      "cell_type": "code",
      "execution_count": 31,
      "metadata": {
        "id": "BF26H2PapAjj"
      },
      "outputs": [],
      "source": [
        "from datasets import load_dataset\n",
        "\n",
        "dataset = load_dataset(\"text\", data_files=[\"dataset/enwik8\"])\n",
        "dataset = dataset[\"train\"]"
      ]
    },
    {
      "cell_type": "code",
      "execution_count": 37,
      "metadata": {
        "id": "EMNe-vB3Kz-L"
      },
      "outputs": [],
      "source": [
        "LR = 1e-3\n",
        "\n",
        "parameters = nn.ModuleDict({\n",
        "    \"model\": model,\n",
        "    \"pooling_layer\": pooling_layer,\n",
        "    \"unpooling_layer\": unpooling_layer,\n",
        "})\n",
        "\n",
        "optimizer = torch.optim.Adam(parameters.parameters(), lr=LR)"
      ]
    },
    {
      "cell_type": "code",
      "execution_count": 40,
      "metadata": {
        "colab": {
          "base_uri": "https://localhost:8080/",
          "height": 125
        },
        "id": "SUo_c6cyTx2Y",
        "outputId": "c1413f76-bae0-40c6-d3e0-45c83a503284"
      },
      "outputs": [
        {
          "data": {
            "text/html": [
              "Tracking run with wandb version 0.16.6"
            ],
            "text/plain": [
              "<IPython.core.display.HTML object>"
            ]
          },
          "metadata": {},
          "output_type": "display_data"
        },
        {
          "data": {
            "text/html": [
              "Run data is saved locally in <code>/content/wandb/run-20240419_124820-jay5epr2</code>"
            ],
            "text/plain": [
              "<IPython.core.display.HTML object>"
            ]
          },
          "metadata": {},
          "output_type": "display_data"
        },
        {
          "data": {
            "text/html": [
              "Syncing run <strong><a href='https://wandb.ai/chihuahuas/DETHCOD/runs/jay5epr2' target=\"_blank\">Vector Training</a></strong> to <a href='https://wandb.ai/chihuahuas/DETHCOD' target=\"_blank\">Weights & Biases</a> (<a href='https://wandb.me/run' target=\"_blank\">docs</a>)<br/>"
            ],
            "text/plain": [
              "<IPython.core.display.HTML object>"
            ]
          },
          "metadata": {},
          "output_type": "display_data"
        },
        {
          "data": {
            "text/html": [
              " View project at <a href='https://wandb.ai/chihuahuas/DETHCOD' target=\"_blank\">https://wandb.ai/chihuahuas/DETHCOD</a>"
            ],
            "text/plain": [
              "<IPython.core.display.HTML object>"
            ]
          },
          "metadata": {},
          "output_type": "display_data"
        },
        {
          "data": {
            "text/html": [
              " View run at <a href='https://wandb.ai/chihuahuas/DETHCOD/runs/jay5epr2' target=\"_blank\">https://wandb.ai/chihuahuas/DETHCOD/runs/jay5epr2</a>"
            ],
            "text/plain": [
              "<IPython.core.display.HTML object>"
            ]
          },
          "metadata": {},
          "output_type": "display_data"
        },
        {
          "data": {
            "text/html": [
              "<button onClick=\"this.nextSibling.style.display='block';this.style.display='none';\">Display W&B run</button><iframe src='https://wandb.ai/chihuahuas/DETHCOD/runs/jay5epr2?jupyter=true' style='border:none;width:100%;height:420px;display:none;'></iframe>"
            ],
            "text/plain": [
              "<wandb.sdk.wandb_run.Run at 0x791d47947010>"
            ]
          },
          "execution_count": 40,
          "metadata": {},
          "output_type": "execute_result"
        }
      ],
      "source": [
        "wandb.init(\n",
        "    name = \"Vector Training\",\n",
        "    project=\"DETHCOD\",\n",
        "    config={\n",
        "        \"model_config\": model.config.to_dict(),\n",
        "    },\n",
        ")"
      ]
    },
    {
      "cell_type": "code",
      "execution_count": 41,
      "metadata": {
        "id": "PQMrUXsbIRnb"
      },
      "outputs": [],
      "source": [
        "batch_size = 8\n",
        "train_dataset = dataset.select(range(10000))\n",
        "data_loader = torch.utils.data.DataLoader(train_dataset, batch_size=batch_size, shuffle=True)"
      ]
    },
    {
      "cell_type": "code",
      "execution_count": null,
      "metadata": {
        "colab": {
          "base_uri": "https://localhost:8080/",
          "height": 49,
          "referenced_widgets": [
            "794e8810d83142d2885f35ef242bd9f5",
            "2a9502f7b2844f588c39a10624cd9f9f",
            "4bed934366e54d7197305635d2e930d4",
            "00a3ee8349a5481d950af28994578f4a",
            "6b3d0b425870458f91abac45fae508ef",
            "d864f391eb6f4754be615036872c6641",
            "2e2cfb8ab9a044e5b19879b2fbcb3c4e",
            "048b35dec72c46e28008eeffcc69948e",
            "1ebd6ecb5c4f4f6bb7b70048b4047122",
            "995b3659282544bc9ceed59982b3dfde",
            "c7a0630e5b89453fa50202fea42834ad"
          ]
        },
        "id": "SaL38jezHlL4",
        "outputId": "e83fc475-4140-483c-bcb1-4c90a2667761"
      },
      "outputs": [
        {
          "data": {
            "application/vnd.jupyter.widget-view+json": {
              "model_id": "794e8810d83142d2885f35ef242bd9f5",
              "version_major": 2,
              "version_minor": 0
            },
            "text/plain": [
              "  0%|          | 0/1250 [00:00<?, ?it/s]"
            ]
          },
          "metadata": {},
          "output_type": "display_data"
        }
      ],
      "source": [
        "import tqdm.auto as tqdm\n",
        "from transformers import modeling_outputs\n",
        "\n",
        "loss = 0\n",
        "\n",
        "with tqdm.tqdm(data_loader) as pbar:\n",
        "    for batch in pbar:\n",
        "        input_ids = tokenizer(batch[\"text\"], return_tensors=\"pt\", padding=True, truncation=True).input_ids.to(device)\n",
        "        encoder_output = model.encoder(input_ids=input_ids)\n",
        "        hiddens = encoder_output.last_hidden_state\n",
        "        pooled = pooling_layer(hiddens).mean(dim=-2)\n",
        "\n",
        "        encoder_hidden_states = pooled.unflatten(-1, (NUM_TOKENS, COMP_EMBED_DIM))\n",
        "        last_hidden_state = unpooling_layer(encoder_hidden_states)\n",
        "\n",
        "        model_output = model.forward(\n",
        "            # decoder_input_ids=input_ids,\n",
        "            labels=input_ids,\n",
        "            encoder_outputs=modeling_outputs.BaseModelOutput(\n",
        "                last_hidden_state=last_hidden_state,\n",
        "            ),\n",
        "        )\n",
        "\n",
        "        loss += model_output.loss * batch_size\n",
        "\n",
        "        loss_item = model_output.loss.item()\n",
        "\n",
        "        # TODO: Add oneshot_chance to logs\n",
        "        wandb.log({\n",
        "            \"loss\": loss_item,\n",
        "        })\n",
        "\n",
        "        pbar.set_description(f\"loss={loss_item:.2f}\")\n",
        "\n",
        "        optimizer.zero_grad()\n",
        "        model_output.loss.backward()\n",
        "        optimizer.step()\n"
      ]
    },
    {
      "cell_type": "code",
      "execution_count": null,
      "metadata": {
        "colab": {
          "base_uri": "https://localhost:8080/",
          "height": 204,
          "referenced_widgets": [
            "46f917b82b3d4b619d279446f80d2f5a",
            "b1a92ee0b4f24a39accb38699613b934",
            "e3ace9dfea684332903c9590c6a2fa7f",
            "741b7a22fd7d473fbfe618e457dcda79",
            "747ec6f97dd747939c624a8e6ec20762",
            "324258054dd843678c35ad9a39f406fb",
            "a85095efecc2482684c8d416a2b16d83",
            "76243523d85e4304bb295a499752784b"
          ]
        },
        "id": "v8aKZaXrJd5P",
        "outputId": "218c40df-edf8-49fc-8e65-4440b3659038"
      },
      "outputs": [
        {
          "data": {
            "application/vnd.jupyter.widget-view+json": {
              "model_id": "46f917b82b3d4b619d279446f80d2f5a",
              "version_major": 2,
              "version_minor": 0
            },
            "text/plain": [
              "VBox(children=(Label(value='0.001 MB of 0.013 MB uploaded\\r'), FloatProgress(value=0.0913915951723135, max=1.0…"
            ]
          },
          "metadata": {},
          "output_type": "display_data"
        },
        {
          "data": {
            "text/html": [
              "<style>\n",
              "    table.wandb td:nth-child(1) { padding: 0 10px; text-align: left ; width: auto;} td:nth-child(2) {text-align: left ; width: 100%}\n",
              "    .wandb-row { display: flex; flex-direction: row; flex-wrap: wrap; justify-content: flex-start; width: 100% }\n",
              "    .wandb-col { display: flex; flex-direction: column; flex-basis: 100%; flex: 1; padding: 10px; }\n",
              "    </style>\n",
              "<div class=\"wandb-row\"><div class=\"wandb-col\"><h3>Run history:</h3><br/><table class=\"wandb\"><tr><td>loss</td><td>█▃▅▂▅▄▃▇▃▃▃▃▃▂▃▂▂▂▄▃▃▂▄▄▄▂▂▂▅▂▂▃▁▁▂▂▃▂▃▂</td></tr></table><br/></div><div class=\"wandb-col\"><h3>Run summary:</h3><br/><table class=\"wandb\"><tr><td>loss</td><td>0.50388</td></tr></table><br/></div></div>"
            ],
            "text/plain": [
              "<IPython.core.display.HTML object>"
            ]
          },
          "metadata": {},
          "output_type": "display_data"
        },
        {
          "data": {
            "text/html": [
              " View run <strong style=\"color:#cdcd00\">Vector Training</strong> at: <a href='https://wandb.ai/chihuahuas/DETHCOD/runs/n0rv8abs' target=\"_blank\">https://wandb.ai/chihuahuas/DETHCOD/runs/n0rv8abs</a><br/> View project at: <a href='https://wandb.ai/chihuahuas/DETHCOD' target=\"_blank\">https://wandb.ai/chihuahuas/DETHCOD</a><br/>Synced 4 W&B file(s), 0 media file(s), 0 artifact file(s) and 0 other file(s)"
            ],
            "text/plain": [
              "<IPython.core.display.HTML object>"
            ]
          },
          "metadata": {},
          "output_type": "display_data"
        },
        {
          "data": {
            "text/html": [
              "Find logs at: <code>./wandb/run-20240419_112502-n0rv8abs/logs</code>"
            ],
            "text/plain": [
              "<IPython.core.display.HTML object>"
            ]
          },
          "metadata": {},
          "output_type": "display_data"
        }
      ],
      "source": [
        "wandb.finish()\n",
        "loss / len(data_loader)"
      ]
    },
    {
      "cell_type": "code",
      "execution_count": null,
      "metadata": {
        "id": "2YxzRb6ZgKda"
      },
      "outputs": [],
      "source": [
        "import random\n",
        "sample = random.choice(dataset)"
      ]
    },
    {
      "cell_type": "code",
      "execution_count": null,
      "metadata": {
        "id": "B-ERJ07uhFPc"
      },
      "outputs": [],
      "source": [
        "sample[\"text\"]"
      ]
    },
    {
      "cell_type": "code",
      "execution_count": null,
      "metadata": {
        "id": "5HPbtRovhsgL"
      },
      "outputs": [],
      "source": [
        "input_ids = tokenizer(sample[\"text\"], return_tensors=\"pt\", padding=True, truncation=True).input_ids.to(device)\n",
        "encoder_output = model.encoder(input_ids=input_ids)\n",
        "hiddens = encoder_output.last_hidden_state\n",
        "pooled = pooling_layer(hiddens).mean(dim=-2)"
      ]
    },
    {
      "cell_type": "code",
      "execution_count": null,
      "metadata": {
        "id": "1LcEIg25huhX"
      },
      "outputs": [],
      "source": [
        "assert model.decoder.config.d_model == COMP_EMBED_DIM, \\\n",
        "    \"Giving the embeddings directly to the decoder\""
      ]
    },
    {
      "cell_type": "code",
      "execution_count": null,
      "metadata": {
        "id": "IZGZhDvFhcHt"
      },
      "outputs": [],
      "source": [
        "encoder_hidden_states = pooled.unsqueeze(-2)\n",
        "\n",
        "model_output = model.forward(\n",
        "    # decoder_input_ids=input_ids,\n",
        "    labels=input_ids,\n",
        "    encoder_outputs=modeling_outputs.BaseModelOutput(\n",
        "        last_hidden_state=encoder_hidden_states,\n",
        "    ),\n",
        ")"
      ]
    },
    {
      "cell_type": "code",
      "execution_count": null,
      "metadata": {
        "colab": {
          "base_uri": "https://localhost:8080/"
        },
        "id": "KpKEkM9UkrXP",
        "outputId": "f0a52a19-00cc-40bc-ab19-0fc10a9ec6ec"
      },
      "outputs": [
        {
          "data": {
            "text/plain": [
              "tensor(11.0820, device='cuda:0', grad_fn=<NllLossBackward0>)"
            ]
          },
          "execution_count": 62,
          "metadata": {},
          "output_type": "execute_result"
        }
      ],
      "source": [
        "model_output.loss"
      ]
    },
    {
      "cell_type": "code",
      "execution_count": null,
      "metadata": {
        "id": "olz1fgl4jJVO"
      },
      "outputs": [],
      "source": [
        "from transformers import modeling_outputs"
      ]
    },
    {
      "cell_type": "code",
      "execution_count": null,
      "metadata": {
        "colab": {
          "base_uri": "https://localhost:8080/"
        },
        "id": "M_0RsvJykhil",
        "outputId": "e8f492fa-6b8d-4f28-83df-e1514ae15ba1"
      },
      "outputs": [
        {
          "data": {
            "text/plain": [
              "tensor([[[-0.0570, -0.0515, -0.0880,  ...,  0.1152, -0.1156, -0.0326]],\n",
              "\n",
              "        [[-0.0440, -0.0277, -0.0743,  ...,  0.0953, -0.0909, -0.0365]],\n",
              "\n",
              "        [[-0.0681, -0.0219, -0.0568,  ...,  0.0959, -0.1128, -0.0434]],\n",
              "\n",
              "        ...,\n",
              "\n",
              "        [[ 0.0035, -0.0132, -0.0860,  ...,  0.1027, -0.0506,  0.0271]],\n",
              "\n",
              "        [[-0.0552, -0.0189, -0.0668,  ...,  0.0937, -0.1011, -0.0230]],\n",
              "\n",
              "        [[-0.0510, -0.0240, -0.0621,  ...,  0.1045, -0.0991, -0.0145]]],\n",
              "       device='cuda:0', grad_fn=<UnsqueezeBackward0>)"
            ]
          },
          "execution_count": 50,
          "metadata": {},
          "output_type": "execute_result"
        }
      ],
      "source": [
        "encoder_hidden_states"
      ]
    },
    {
      "cell_type": "code",
      "execution_count": null,
      "metadata": {
        "colab": {
          "base_uri": "https://localhost:8080/"
        },
        "id": "BD2afnf9b7Du",
        "outputId": "94091035-2b71-4e6f-bd14-ee66de26690e"
      },
      "outputs": [
        {
          "name": "stderr",
          "output_type": "stream",
          "text": [
            "/usr/local/lib/python3.10/dist-packages/transformers/generation/utils.py:1178: UserWarning: Using the model-agnostic default `max_length` (=20) to control the generation length. We recommend setting `max_new_tokens` to control the maximum length of the generation.\n",
            "  warnings.warn(\n"
          ]
        },
        {
          "data": {
            "text/plain": [
              "tensor([[0, 0, 0, 0, 0, 0, 0, 0, 0, 0, 0, 0, 0, 0, 0, 0, 0, 0, 0, 0],\n",
              "        [0, 0, 0, 0, 0, 0, 0, 0, 0, 0, 0, 0, 0, 0, 0, 0, 0, 0, 0, 0],\n",
              "        [0, 0, 0, 0, 0, 0, 0, 0, 0, 0, 0, 0, 0, 0, 0, 0, 0, 0, 0, 0],\n",
              "        [0, 0, 0, 0, 0, 0, 0, 0, 0, 0, 0, 0, 0, 0, 0, 0, 0, 0, 0, 0],\n",
              "        [0, 0, 0, 0, 0, 0, 0, 0, 0, 0, 0, 0, 0, 0, 0, 0, 0, 0, 0, 0],\n",
              "        [0, 0, 0, 0, 0, 0, 0, 0, 0, 0, 0, 0, 0, 0, 0, 0, 0, 0, 0, 0],\n",
              "        [0, 0, 0, 0, 0, 0, 0, 0, 0, 0, 0, 0, 0, 0, 0, 0, 0, 0, 0, 0],\n",
              "        [0, 0, 0, 0, 0, 0, 0, 0, 0, 0, 0, 0, 0, 0, 0, 0, 0, 0, 0, 0]],\n",
              "       device='cuda:0')"
            ]
          },
          "execution_count": 49,
          "metadata": {},
          "output_type": "execute_result"
        }
      ],
      "source": [
        "model.generate(\n",
        "    encoder_outputs=modeling_outputs.BaseModelOutput(\n",
        "        last_hidden_state=encoder_hidden_states,\n",
        "    ),\n",
        ")"
      ]
    },
    {
      "cell_type": "code",
      "execution_count": null,
      "metadata": {
        "id": "DDRzDAlNkdZL"
      },
      "outputs": [],
      "source": []
    }
  ],
  "metadata": {
    "accelerator": "GPU",
    "colab": {
      "gpuType": "T4",
      "provenance": []
    },
    "kernelspec": {
      "display_name": "Python 3",
      "name": "python3"
    },
    "language_info": {
      "codemirror_mode": {
        "name": "ipython",
        "version": 3
      },
      "file_extension": ".py",
      "mimetype": "text/x-python",
      "name": "python",
      "nbconvert_exporter": "python",
      "pygments_lexer": "ipython3",
      "version": "3.9.18"
    },
    "widgets": {
      "application/vnd.jupyter.widget-state+json": {
        "00a3ee8349a5481d950af28994578f4a": {
          "model_module": "@jupyter-widgets/controls",
          "model_module_version": "1.5.0",
          "model_name": "HTMLModel",
          "state": {
            "_dom_classes": [],
            "_model_module": "@jupyter-widgets/controls",
            "_model_module_version": "1.5.0",
            "_model_name": "HTMLModel",
            "_view_count": null,
            "_view_module": "@jupyter-widgets/controls",
            "_view_module_version": "1.5.0",
            "_view_name": "HTMLView",
            "description": "",
            "description_tooltip": null,
            "layout": "IPY_MODEL_995b3659282544bc9ceed59982b3dfde",
            "placeholder": "​",
            "style": "IPY_MODEL_c7a0630e5b89453fa50202fea42834ad",
            "value": " 124/1250 [00:24&lt;02:55,  6.41it/s]"
          }
        },
        "048b35dec72c46e28008eeffcc69948e": {
          "model_module": "@jupyter-widgets/base",
          "model_module_version": "1.2.0",
          "model_name": "LayoutModel",
          "state": {
            "_model_module": "@jupyter-widgets/base",
            "_model_module_version": "1.2.0",
            "_model_name": "LayoutModel",
            "_view_count": null,
            "_view_module": "@jupyter-widgets/base",
            "_view_module_version": "1.2.0",
            "_view_name": "LayoutView",
            "align_content": null,
            "align_items": null,
            "align_self": null,
            "border": null,
            "bottom": null,
            "display": null,
            "flex": null,
            "flex_flow": null,
            "grid_area": null,
            "grid_auto_columns": null,
            "grid_auto_flow": null,
            "grid_auto_rows": null,
            "grid_column": null,
            "grid_gap": null,
            "grid_row": null,
            "grid_template_areas": null,
            "grid_template_columns": null,
            "grid_template_rows": null,
            "height": null,
            "justify_content": null,
            "justify_items": null,
            "left": null,
            "margin": null,
            "max_height": null,
            "max_width": null,
            "min_height": null,
            "min_width": null,
            "object_fit": null,
            "object_position": null,
            "order": null,
            "overflow": null,
            "overflow_x": null,
            "overflow_y": null,
            "padding": null,
            "right": null,
            "top": null,
            "visibility": null,
            "width": null
          }
        },
        "1ebd6ecb5c4f4f6bb7b70048b4047122": {
          "model_module": "@jupyter-widgets/controls",
          "model_module_version": "1.5.0",
          "model_name": "ProgressStyleModel",
          "state": {
            "_model_module": "@jupyter-widgets/controls",
            "_model_module_version": "1.5.0",
            "_model_name": "ProgressStyleModel",
            "_view_count": null,
            "_view_module": "@jupyter-widgets/base",
            "_view_module_version": "1.2.0",
            "_view_name": "StyleView",
            "bar_color": null,
            "description_width": ""
          }
        },
        "2a9502f7b2844f588c39a10624cd9f9f": {
          "model_module": "@jupyter-widgets/controls",
          "model_module_version": "1.5.0",
          "model_name": "HTMLModel",
          "state": {
            "_dom_classes": [],
            "_model_module": "@jupyter-widgets/controls",
            "_model_module_version": "1.5.0",
            "_model_name": "HTMLModel",
            "_view_count": null,
            "_view_module": "@jupyter-widgets/controls",
            "_view_module_version": "1.5.0",
            "_view_name": "HTMLView",
            "description": "",
            "description_tooltip": null,
            "layout": "IPY_MODEL_d864f391eb6f4754be615036872c6641",
            "placeholder": "​",
            "style": "IPY_MODEL_2e2cfb8ab9a044e5b19879b2fbcb3c4e",
            "value": "loss=0.8976218104362488:  10%"
          }
        },
        "2e2cfb8ab9a044e5b19879b2fbcb3c4e": {
          "model_module": "@jupyter-widgets/controls",
          "model_module_version": "1.5.0",
          "model_name": "DescriptionStyleModel",
          "state": {
            "_model_module": "@jupyter-widgets/controls",
            "_model_module_version": "1.5.0",
            "_model_name": "DescriptionStyleModel",
            "_view_count": null,
            "_view_module": "@jupyter-widgets/base",
            "_view_module_version": "1.2.0",
            "_view_name": "StyleView",
            "description_width": ""
          }
        },
        "324258054dd843678c35ad9a39f406fb": {
          "model_module": "@jupyter-widgets/controls",
          "model_module_version": "1.5.0",
          "model_name": "DescriptionStyleModel",
          "state": {
            "_model_module": "@jupyter-widgets/controls",
            "_model_module_version": "1.5.0",
            "_model_name": "DescriptionStyleModel",
            "_view_count": null,
            "_view_module": "@jupyter-widgets/base",
            "_view_module_version": "1.2.0",
            "_view_name": "StyleView",
            "description_width": ""
          }
        },
        "46f917b82b3d4b619d279446f80d2f5a": {
          "model_module": "@jupyter-widgets/controls",
          "model_module_version": "1.5.0",
          "model_name": "VBoxModel",
          "state": {
            "_dom_classes": [],
            "_model_module": "@jupyter-widgets/controls",
            "_model_module_version": "1.5.0",
            "_model_name": "VBoxModel",
            "_view_count": null,
            "_view_module": "@jupyter-widgets/controls",
            "_view_module_version": "1.5.0",
            "_view_name": "VBoxView",
            "box_style": "",
            "children": [
              "IPY_MODEL_b1a92ee0b4f24a39accb38699613b934",
              "IPY_MODEL_e3ace9dfea684332903c9590c6a2fa7f"
            ],
            "layout": "IPY_MODEL_741b7a22fd7d473fbfe618e457dcda79"
          }
        },
        "4bed934366e54d7197305635d2e930d4": {
          "model_module": "@jupyter-widgets/controls",
          "model_module_version": "1.5.0",
          "model_name": "FloatProgressModel",
          "state": {
            "_dom_classes": [],
            "_model_module": "@jupyter-widgets/controls",
            "_model_module_version": "1.5.0",
            "_model_name": "FloatProgressModel",
            "_view_count": null,
            "_view_module": "@jupyter-widgets/controls",
            "_view_module_version": "1.5.0",
            "_view_name": "ProgressView",
            "bar_style": "",
            "description": "",
            "description_tooltip": null,
            "layout": "IPY_MODEL_048b35dec72c46e28008eeffcc69948e",
            "max": 1250,
            "min": 0,
            "orientation": "horizontal",
            "style": "IPY_MODEL_1ebd6ecb5c4f4f6bb7b70048b4047122",
            "value": 124
          }
        },
        "6b3d0b425870458f91abac45fae508ef": {
          "model_module": "@jupyter-widgets/base",
          "model_module_version": "1.2.0",
          "model_name": "LayoutModel",
          "state": {
            "_model_module": "@jupyter-widgets/base",
            "_model_module_version": "1.2.0",
            "_model_name": "LayoutModel",
            "_view_count": null,
            "_view_module": "@jupyter-widgets/base",
            "_view_module_version": "1.2.0",
            "_view_name": "LayoutView",
            "align_content": null,
            "align_items": null,
            "align_self": null,
            "border": null,
            "bottom": null,
            "display": null,
            "flex": null,
            "flex_flow": null,
            "grid_area": null,
            "grid_auto_columns": null,
            "grid_auto_flow": null,
            "grid_auto_rows": null,
            "grid_column": null,
            "grid_gap": null,
            "grid_row": null,
            "grid_template_areas": null,
            "grid_template_columns": null,
            "grid_template_rows": null,
            "height": null,
            "justify_content": null,
            "justify_items": null,
            "left": null,
            "margin": null,
            "max_height": null,
            "max_width": null,
            "min_height": null,
            "min_width": null,
            "object_fit": null,
            "object_position": null,
            "order": null,
            "overflow": null,
            "overflow_x": null,
            "overflow_y": null,
            "padding": null,
            "right": null,
            "top": null,
            "visibility": null,
            "width": null
          }
        },
        "741b7a22fd7d473fbfe618e457dcda79": {
          "model_module": "@jupyter-widgets/base",
          "model_module_version": "1.2.0",
          "model_name": "LayoutModel",
          "state": {
            "_model_module": "@jupyter-widgets/base",
            "_model_module_version": "1.2.0",
            "_model_name": "LayoutModel",
            "_view_count": null,
            "_view_module": "@jupyter-widgets/base",
            "_view_module_version": "1.2.0",
            "_view_name": "LayoutView",
            "align_content": null,
            "align_items": null,
            "align_self": null,
            "border": null,
            "bottom": null,
            "display": null,
            "flex": null,
            "flex_flow": null,
            "grid_area": null,
            "grid_auto_columns": null,
            "grid_auto_flow": null,
            "grid_auto_rows": null,
            "grid_column": null,
            "grid_gap": null,
            "grid_row": null,
            "grid_template_areas": null,
            "grid_template_columns": null,
            "grid_template_rows": null,
            "height": null,
            "justify_content": null,
            "justify_items": null,
            "left": null,
            "margin": null,
            "max_height": null,
            "max_width": null,
            "min_height": null,
            "min_width": null,
            "object_fit": null,
            "object_position": null,
            "order": null,
            "overflow": null,
            "overflow_x": null,
            "overflow_y": null,
            "padding": null,
            "right": null,
            "top": null,
            "visibility": null,
            "width": null
          }
        },
        "747ec6f97dd747939c624a8e6ec20762": {
          "model_module": "@jupyter-widgets/base",
          "model_module_version": "1.2.0",
          "model_name": "LayoutModel",
          "state": {
            "_model_module": "@jupyter-widgets/base",
            "_model_module_version": "1.2.0",
            "_model_name": "LayoutModel",
            "_view_count": null,
            "_view_module": "@jupyter-widgets/base",
            "_view_module_version": "1.2.0",
            "_view_name": "LayoutView",
            "align_content": null,
            "align_items": null,
            "align_self": null,
            "border": null,
            "bottom": null,
            "display": null,
            "flex": null,
            "flex_flow": null,
            "grid_area": null,
            "grid_auto_columns": null,
            "grid_auto_flow": null,
            "grid_auto_rows": null,
            "grid_column": null,
            "grid_gap": null,
            "grid_row": null,
            "grid_template_areas": null,
            "grid_template_columns": null,
            "grid_template_rows": null,
            "height": null,
            "justify_content": null,
            "justify_items": null,
            "left": null,
            "margin": null,
            "max_height": null,
            "max_width": null,
            "min_height": null,
            "min_width": null,
            "object_fit": null,
            "object_position": null,
            "order": null,
            "overflow": null,
            "overflow_x": null,
            "overflow_y": null,
            "padding": null,
            "right": null,
            "top": null,
            "visibility": null,
            "width": null
          }
        },
        "76243523d85e4304bb295a499752784b": {
          "model_module": "@jupyter-widgets/controls",
          "model_module_version": "1.5.0",
          "model_name": "ProgressStyleModel",
          "state": {
            "_model_module": "@jupyter-widgets/controls",
            "_model_module_version": "1.5.0",
            "_model_name": "ProgressStyleModel",
            "_view_count": null,
            "_view_module": "@jupyter-widgets/base",
            "_view_module_version": "1.2.0",
            "_view_name": "StyleView",
            "bar_color": null,
            "description_width": ""
          }
        },
        "794e8810d83142d2885f35ef242bd9f5": {
          "model_module": "@jupyter-widgets/controls",
          "model_module_version": "1.5.0",
          "model_name": "HBoxModel",
          "state": {
            "_dom_classes": [],
            "_model_module": "@jupyter-widgets/controls",
            "_model_module_version": "1.5.0",
            "_model_name": "HBoxModel",
            "_view_count": null,
            "_view_module": "@jupyter-widgets/controls",
            "_view_module_version": "1.5.0",
            "_view_name": "HBoxView",
            "box_style": "",
            "children": [
              "IPY_MODEL_2a9502f7b2844f588c39a10624cd9f9f",
              "IPY_MODEL_4bed934366e54d7197305635d2e930d4",
              "IPY_MODEL_00a3ee8349a5481d950af28994578f4a"
            ],
            "layout": "IPY_MODEL_6b3d0b425870458f91abac45fae508ef"
          }
        },
        "995b3659282544bc9ceed59982b3dfde": {
          "model_module": "@jupyter-widgets/base",
          "model_module_version": "1.2.0",
          "model_name": "LayoutModel",
          "state": {
            "_model_module": "@jupyter-widgets/base",
            "_model_module_version": "1.2.0",
            "_model_name": "LayoutModel",
            "_view_count": null,
            "_view_module": "@jupyter-widgets/base",
            "_view_module_version": "1.2.0",
            "_view_name": "LayoutView",
            "align_content": null,
            "align_items": null,
            "align_self": null,
            "border": null,
            "bottom": null,
            "display": null,
            "flex": null,
            "flex_flow": null,
            "grid_area": null,
            "grid_auto_columns": null,
            "grid_auto_flow": null,
            "grid_auto_rows": null,
            "grid_column": null,
            "grid_gap": null,
            "grid_row": null,
            "grid_template_areas": null,
            "grid_template_columns": null,
            "grid_template_rows": null,
            "height": null,
            "justify_content": null,
            "justify_items": null,
            "left": null,
            "margin": null,
            "max_height": null,
            "max_width": null,
            "min_height": null,
            "min_width": null,
            "object_fit": null,
            "object_position": null,
            "order": null,
            "overflow": null,
            "overflow_x": null,
            "overflow_y": null,
            "padding": null,
            "right": null,
            "top": null,
            "visibility": null,
            "width": null
          }
        },
        "a85095efecc2482684c8d416a2b16d83": {
          "model_module": "@jupyter-widgets/base",
          "model_module_version": "1.2.0",
          "model_name": "LayoutModel",
          "state": {
            "_model_module": "@jupyter-widgets/base",
            "_model_module_version": "1.2.0",
            "_model_name": "LayoutModel",
            "_view_count": null,
            "_view_module": "@jupyter-widgets/base",
            "_view_module_version": "1.2.0",
            "_view_name": "LayoutView",
            "align_content": null,
            "align_items": null,
            "align_self": null,
            "border": null,
            "bottom": null,
            "display": null,
            "flex": null,
            "flex_flow": null,
            "grid_area": null,
            "grid_auto_columns": null,
            "grid_auto_flow": null,
            "grid_auto_rows": null,
            "grid_column": null,
            "grid_gap": null,
            "grid_row": null,
            "grid_template_areas": null,
            "grid_template_columns": null,
            "grid_template_rows": null,
            "height": null,
            "justify_content": null,
            "justify_items": null,
            "left": null,
            "margin": null,
            "max_height": null,
            "max_width": null,
            "min_height": null,
            "min_width": null,
            "object_fit": null,
            "object_position": null,
            "order": null,
            "overflow": null,
            "overflow_x": null,
            "overflow_y": null,
            "padding": null,
            "right": null,
            "top": null,
            "visibility": null,
            "width": null
          }
        },
        "b1a92ee0b4f24a39accb38699613b934": {
          "model_module": "@jupyter-widgets/controls",
          "model_module_version": "1.5.0",
          "model_name": "LabelModel",
          "state": {
            "_dom_classes": [],
            "_model_module": "@jupyter-widgets/controls",
            "_model_module_version": "1.5.0",
            "_model_name": "LabelModel",
            "_view_count": null,
            "_view_module": "@jupyter-widgets/controls",
            "_view_module_version": "1.5.0",
            "_view_name": "LabelView",
            "description": "",
            "description_tooltip": null,
            "layout": "IPY_MODEL_747ec6f97dd747939c624a8e6ec20762",
            "placeholder": "​",
            "style": "IPY_MODEL_324258054dd843678c35ad9a39f406fb",
            "value": "0.013 MB of 0.013 MB uploaded\r"
          }
        },
        "c7a0630e5b89453fa50202fea42834ad": {
          "model_module": "@jupyter-widgets/controls",
          "model_module_version": "1.5.0",
          "model_name": "DescriptionStyleModel",
          "state": {
            "_model_module": "@jupyter-widgets/controls",
            "_model_module_version": "1.5.0",
            "_model_name": "DescriptionStyleModel",
            "_view_count": null,
            "_view_module": "@jupyter-widgets/base",
            "_view_module_version": "1.2.0",
            "_view_name": "StyleView",
            "description_width": ""
          }
        },
        "d864f391eb6f4754be615036872c6641": {
          "model_module": "@jupyter-widgets/base",
          "model_module_version": "1.2.0",
          "model_name": "LayoutModel",
          "state": {
            "_model_module": "@jupyter-widgets/base",
            "_model_module_version": "1.2.0",
            "_model_name": "LayoutModel",
            "_view_count": null,
            "_view_module": "@jupyter-widgets/base",
            "_view_module_version": "1.2.0",
            "_view_name": "LayoutView",
            "align_content": null,
            "align_items": null,
            "align_self": null,
            "border": null,
            "bottom": null,
            "display": null,
            "flex": null,
            "flex_flow": null,
            "grid_area": null,
            "grid_auto_columns": null,
            "grid_auto_flow": null,
            "grid_auto_rows": null,
            "grid_column": null,
            "grid_gap": null,
            "grid_row": null,
            "grid_template_areas": null,
            "grid_template_columns": null,
            "grid_template_rows": null,
            "height": null,
            "justify_content": null,
            "justify_items": null,
            "left": null,
            "margin": null,
            "max_height": null,
            "max_width": null,
            "min_height": null,
            "min_width": null,
            "object_fit": null,
            "object_position": null,
            "order": null,
            "overflow": null,
            "overflow_x": null,
            "overflow_y": null,
            "padding": null,
            "right": null,
            "top": null,
            "visibility": null,
            "width": null
          }
        },
        "e3ace9dfea684332903c9590c6a2fa7f": {
          "model_module": "@jupyter-widgets/controls",
          "model_module_version": "1.5.0",
          "model_name": "FloatProgressModel",
          "state": {
            "_dom_classes": [],
            "_model_module": "@jupyter-widgets/controls",
            "_model_module_version": "1.5.0",
            "_model_name": "FloatProgressModel",
            "_view_count": null,
            "_view_module": "@jupyter-widgets/controls",
            "_view_module_version": "1.5.0",
            "_view_name": "ProgressView",
            "bar_style": "",
            "description": "",
            "description_tooltip": null,
            "layout": "IPY_MODEL_a85095efecc2482684c8d416a2b16d83",
            "max": 1,
            "min": 0,
            "orientation": "horizontal",
            "style": "IPY_MODEL_76243523d85e4304bb295a499752784b",
            "value": 1
          }
        }
      }
    }
  },
  "nbformat": 4,
  "nbformat_minor": 0
}
